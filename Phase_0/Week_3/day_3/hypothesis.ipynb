{
 "cells": [
  {
   "cell_type": "code",
   "execution_count": 3,
   "metadata": {},
   "outputs": [],
   "source": [
    "import numpy as np\n",
    "import matplotlib.pyplot as plt"
   ]
  },
  {
   "cell_type": "code",
   "execution_count": 4,
   "metadata": {},
   "outputs": [],
   "source": [
    "# definisikan data\n",
    "\n",
    "# yang ikut bimbel\n",
    "treatment = [85.2, 90, 78.9, 87.5, 88.2, 77.5, 95, 81, 100, 85.2]\n",
    "\n",
    "# yang tidak ikut bimbel\n",
    "control = [82.3, 70.4, 66.2, 100, 65.3, 77.9, 90, 67.4, 70, 80]\n"
   ]
  },
  {
   "cell_type": "code",
   "execution_count": 5,
   "metadata": {},
   "outputs": [],
   "source": [
    "ground_truth = np.abs(np.mean(control) - np.mean (treatment))"
   ]
  },
  {
   "cell_type": "code",
   "execution_count": 47,
   "metadata": {},
   "outputs": [
    {
     "data": {
      "text/plain": [
       "9.899999999999991"
      ]
     },
     "execution_count": 47,
     "metadata": {},
     "output_type": "execute_result"
    }
   ],
   "source": [
    "ground_truth"
   ]
  },
  {
   "cell_type": "code",
   "execution_count": 9,
   "metadata": {},
   "outputs": [
    {
     "data": {
      "text/plain": [
       "array([ 82.3,  70.4,  66.2, 100. ,  65.3,  77.9,  90. ,  67.4,  70. ,\n",
       "        80. ,  85.2,  90. ,  78.9,  87.5,  88.2,  77.5,  95. ,  81. ,\n",
       "       100. ,  85.2])"
      ]
     },
     "execution_count": 9,
     "metadata": {},
     "output_type": "execute_result"
    }
   ],
   "source": [
    "#gabungkan data\n",
    "concat = np.concatenate([control, treatment])\n",
    "concat"
   ]
  },
  {
   "cell_type": "code",
   "execution_count": 45,
   "metadata": {},
   "outputs": [],
   "source": [
    "#permutation test \n",
    "k = []\n",
    "np.random.seed(2)\n",
    "\n",
    "for i in range(100):\n",
    "    np.random.shuffle(concat)\n",
    "    group_a = np.mean(concat[:10])\n",
    "    group_b = np.mean(concat[10:])\n",
    "    d = np.abs(group_a - group_b)\n",
    "    k.append(d)\n",
    "\n"
   ]
  },
  {
   "cell_type": "code",
   "execution_count": 46,
   "metadata": {},
   "outputs": [
    {
     "data": {
      "text/plain": [
       "0.05"
      ]
     },
     "execution_count": 46,
     "metadata": {},
     "output_type": "execute_result"
    }
   ],
   "source": [
    "p_value = len (np.where(k >= ground_truth)[0]) / 100\n",
    "p_value"
   ]
  },
  {
   "cell_type": "code",
   "execution_count": null,
   "metadata": {},
   "outputs": [],
   "source": [
    "import scipy.stats as stats\n",
    "import pandas as pd"
   ]
  },
  {
   "cell_type": "code",
   "execution_count": null,
   "metadata": {},
   "outputs": [],
   "source": [
    "def normal_pdf(mu)"
   ]
  }
 ],
 "metadata": {
  "kernelspec": {
   "display_name": "Python 3.10.5 64-bit",
   "language": "python",
   "name": "python3"
  },
  "language_info": {
   "codemirror_mode": {
    "name": "ipython",
    "version": 3
   },
   "file_extension": ".py",
   "mimetype": "text/x-python",
   "name": "python",
   "nbconvert_exporter": "python",
   "pygments_lexer": "ipython3",
   "version": "3.10.5"
  },
  "orig_nbformat": 4,
  "vscode": {
   "interpreter": {
    "hash": "aa24d1753723fb44936862a0479a9c898341c4bbf00849cc75b84e50be8d531a"
   }
  }
 },
 "nbformat": 4,
 "nbformat_minor": 2
}
