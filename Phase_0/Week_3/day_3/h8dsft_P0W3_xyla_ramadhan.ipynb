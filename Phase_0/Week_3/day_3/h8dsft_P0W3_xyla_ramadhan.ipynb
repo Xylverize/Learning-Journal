{
 "cells": [
  {
   "cell_type": "markdown",
   "metadata": {},
   "source": [
    "## Assignment Graded Challenge 3"
   ]
  },
  {
   "cell_type": "markdown",
   "metadata": {},
   "source": [
    "Nama : Raden Mas Xyla Ramadhan \n",
    "\n",
    "Batch 13"
   ]
  },
  {
   "cell_type": "markdown",
   "metadata": {},
   "source": [
    "### Dataset Description\n",
    "- Pada graded challenge ini, data diakses menggunakan bigquery-public-data pada Google Cloud Big Query.\n",
    "\n",
    "- Buka Google Cloud Platform, masuk ke BigQuery, lalu buka tab bigquery-public-data atau klik link berikut atau link berikut untuk langsung menuju ke tabel."
   ]
  },
  {
   "cell_type": "markdown",
   "metadata": {},
   "source": [
    "### Assignment Problems\n",
    "\n",
    "Kamu adalah anggota tim Data Science di Austin Smart City dan sedang mengerjakan projek analisa sistem pembuangan dan pengelolaan sampah di kota tersebut. Sebagai anggota tim, berdasarkan data yang tersedia, coba analisa data tersebut menggunakan statistik deskriptif dan inferensial, serta berikan insight kepada pemerintah kota Austin mengenai kondisi sistem pembuangan dan pengelolaan sampah. Gunakan guideline/langkah berikut untuk mempermudah kamu dalam menganalisa."
   ]
  },
  {
   "cell_type": "markdown",
   "metadata": {},
   "source": [
    "### Import pustaka yang dibutuhkan"
   ]
  },
  {
   "cell_type": "code",
   "execution_count": 1,
   "metadata": {},
   "outputs": [],
   "source": [
    "#import library\n",
    "import pandas as pd\n",
    "from scipy import stats\n",
    "import numpy as np\n",
    "import matplotlib.pyplot as plt\n",
    "import seaborn as sns\n"
   ]
  },
  {
   "cell_type": "markdown",
   "metadata": {},
   "source": [
    "### Salin query yang telah dibuat di Google Cloud Platform"
   ]
  },
  {
   "cell_type": "markdown",
   "metadata": {},
   "source": [
    "SELECT load_time, load_type, load_weight, dropoff_site\n",
    "\n",
    "FROM bigquery-public-data.austin_waste.waste_and_diversion\n",
    "\n",
    "LIMIT 150000"
   ]
  },
  {
   "cell_type": "markdown",
   "metadata": {},
   "source": [
    " ### Loading Data"
   ]
  },
  {
   "cell_type": "code",
   "execution_count": 2,
   "metadata": {},
   "outputs": [],
   "source": [
    "#loading data\n",
    "df = pd.read_csv('h8dsft_P0GC3_xyla_ramadhan.csv')"
   ]
  },
  {
   "cell_type": "code",
   "execution_count": 3,
   "metadata": {},
   "outputs": [
    {
     "data": {
      "text/html": [
       "<div>\n",
       "<style scoped>\n",
       "    .dataframe tbody tr th:only-of-type {\n",
       "        vertical-align: middle;\n",
       "    }\n",
       "\n",
       "    .dataframe tbody tr th {\n",
       "        vertical-align: top;\n",
       "    }\n",
       "\n",
       "    .dataframe thead th {\n",
       "        text-align: right;\n",
       "    }\n",
       "</style>\n",
       "<table border=\"1\" class=\"dataframe\">\n",
       "  <thead>\n",
       "    <tr style=\"text-align: right;\">\n",
       "      <th></th>\n",
       "      <th>load_time</th>\n",
       "      <th>load_type</th>\n",
       "      <th>load_weight</th>\n",
       "      <th>dropoff_site</th>\n",
       "    </tr>\n",
       "  </thead>\n",
       "  <tbody>\n",
       "    <tr>\n",
       "      <th>0</th>\n",
       "      <td>2009-08-07 11:51:00 UTC</td>\n",
       "      <td>RECYCLING - SINGLE STREAM</td>\n",
       "      <td>4400.0</td>\n",
       "      <td>MRF</td>\n",
       "    </tr>\n",
       "    <tr>\n",
       "      <th>1</th>\n",
       "      <td>2008-04-11 12:31:00 UTC</td>\n",
       "      <td>RECYCLING - PAPER</td>\n",
       "      <td>1920.0</td>\n",
       "      <td>MRF</td>\n",
       "    </tr>\n",
       "    <tr>\n",
       "      <th>2</th>\n",
       "      <td>2009-01-16 12:58:00 UTC</td>\n",
       "      <td>RECYCLING - SINGLE STREAM</td>\n",
       "      <td>4140.0</td>\n",
       "      <td>MRF</td>\n",
       "    </tr>\n",
       "    <tr>\n",
       "      <th>3</th>\n",
       "      <td>2009-07-10 11:21:00 UTC</td>\n",
       "      <td>RECYCLING - SINGLE STREAM</td>\n",
       "      <td>4020.0</td>\n",
       "      <td>MRF</td>\n",
       "    </tr>\n",
       "    <tr>\n",
       "      <th>4</th>\n",
       "      <td>2006-02-03 12:36:00 UTC</td>\n",
       "      <td>RECYCLING - COMINGLE</td>\n",
       "      <td>1700.0</td>\n",
       "      <td>MRF</td>\n",
       "    </tr>\n",
       "  </tbody>\n",
       "</table>\n",
       "</div>"
      ],
      "text/plain": [
       "                 load_time                  load_type  load_weight  \\\n",
       "0  2009-08-07 11:51:00 UTC  RECYCLING - SINGLE STREAM       4400.0   \n",
       "1  2008-04-11 12:31:00 UTC          RECYCLING - PAPER       1920.0   \n",
       "2  2009-01-16 12:58:00 UTC  RECYCLING - SINGLE STREAM       4140.0   \n",
       "3  2009-07-10 11:21:00 UTC  RECYCLING - SINGLE STREAM       4020.0   \n",
       "4  2006-02-03 12:36:00 UTC       RECYCLING - COMINGLE       1700.0   \n",
       "\n",
       "  dropoff_site  \n",
       "0          MRF  \n",
       "1          MRF  \n",
       "2          MRF  \n",
       "3          MRF  \n",
       "4          MRF  "
      ]
     },
     "execution_count": 3,
     "metadata": {},
     "output_type": "execute_result"
    }
   ],
   "source": [
    "#tampilkan head\n",
    "df.head()"
   ]
  },
  {
   "cell_type": "code",
   "execution_count": 4,
   "metadata": {},
   "outputs": [
    {
     "data": {
      "text/html": [
       "<div>\n",
       "<style scoped>\n",
       "    .dataframe tbody tr th:only-of-type {\n",
       "        vertical-align: middle;\n",
       "    }\n",
       "\n",
       "    .dataframe tbody tr th {\n",
       "        vertical-align: top;\n",
       "    }\n",
       "\n",
       "    .dataframe thead th {\n",
       "        text-align: right;\n",
       "    }\n",
       "</style>\n",
       "<table border=\"1\" class=\"dataframe\">\n",
       "  <thead>\n",
       "    <tr style=\"text-align: right;\">\n",
       "      <th></th>\n",
       "      <th>load_time</th>\n",
       "      <th>load_type</th>\n",
       "      <th>load_weight</th>\n",
       "      <th>dropoff_site</th>\n",
       "    </tr>\n",
       "  </thead>\n",
       "  <tbody>\n",
       "    <tr>\n",
       "      <th>149995</th>\n",
       "      <td>2011-08-17 12:45:00 UTC</td>\n",
       "      <td>RECYCLING - SINGLE STREAM</td>\n",
       "      <td>13380.0</td>\n",
       "      <td>TDS - MRF</td>\n",
       "    </tr>\n",
       "    <tr>\n",
       "      <th>149996</th>\n",
       "      <td>2011-06-08 10:59:00 UTC</td>\n",
       "      <td>RECYCLING - SINGLE STREAM</td>\n",
       "      <td>14080.0</td>\n",
       "      <td>TDS - MRF</td>\n",
       "    </tr>\n",
       "    <tr>\n",
       "      <th>149997</th>\n",
       "      <td>2012-04-11 12:09:00 UTC</td>\n",
       "      <td>RECYCLING - SINGLE STREAM</td>\n",
       "      <td>14260.0</td>\n",
       "      <td>TDS - MRF</td>\n",
       "    </tr>\n",
       "    <tr>\n",
       "      <th>149998</th>\n",
       "      <td>2011-08-31 02:50:00 UTC</td>\n",
       "      <td>RECYCLING - SINGLE STREAM</td>\n",
       "      <td>4100.0</td>\n",
       "      <td>TDS - MRF</td>\n",
       "    </tr>\n",
       "    <tr>\n",
       "      <th>149999</th>\n",
       "      <td>2011-07-20 11:21:00 UTC</td>\n",
       "      <td>RECYCLING - SINGLE STREAM</td>\n",
       "      <td>6220.0</td>\n",
       "      <td>TDS - MRF</td>\n",
       "    </tr>\n",
       "  </tbody>\n",
       "</table>\n",
       "</div>"
      ],
      "text/plain": [
       "                      load_time                  load_type  load_weight  \\\n",
       "149995  2011-08-17 12:45:00 UTC  RECYCLING - SINGLE STREAM      13380.0   \n",
       "149996  2011-06-08 10:59:00 UTC  RECYCLING - SINGLE STREAM      14080.0   \n",
       "149997  2012-04-11 12:09:00 UTC  RECYCLING - SINGLE STREAM      14260.0   \n",
       "149998  2011-08-31 02:50:00 UTC  RECYCLING - SINGLE STREAM       4100.0   \n",
       "149999  2011-07-20 11:21:00 UTC  RECYCLING - SINGLE STREAM       6220.0   \n",
       "\n",
       "       dropoff_site  \n",
       "149995    TDS - MRF  \n",
       "149996    TDS - MRF  \n",
       "149997    TDS - MRF  \n",
       "149998    TDS - MRF  \n",
       "149999    TDS - MRF  "
      ]
     },
     "execution_count": 4,
     "metadata": {},
     "output_type": "execute_result"
    }
   ],
   "source": [
    "#tampilkan tail\n",
    "df.tail()"
   ]
  },
  {
   "cell_type": "markdown",
   "metadata": {},
   "source": [
    "##### 1. Sebelum melakukan perhitungan dan analisa statistik, lakukan pembersihan data terlebih dahulu. Pastikan tidak ada missing value, dsb."
   ]
  },
  {
   "cell_type": "markdown",
   "metadata": {},
   "source": [
    "### Data Preprocessing"
   ]
  },
  {
   "cell_type": "code",
   "execution_count": 5,
   "metadata": {},
   "outputs": [
    {
     "data": {
      "text/plain": [
       "load_time          0\n",
       "load_type          0\n",
       "load_weight     5066\n",
       "dropoff_site       0\n",
       "dtype: int64"
      ]
     },
     "execution_count": 5,
     "metadata": {},
     "output_type": "execute_result"
    }
   ],
   "source": [
    "# Menampilkan missing value\n",
    "df.isna().sum() "
   ]
  },
  {
   "cell_type": "code",
   "execution_count": 6,
   "metadata": {},
   "outputs": [],
   "source": [
    "# Mengganti missing value menggunakan median\n",
    "df['load_weight'] = df['load_weight'].fillna(df['load_weight'].median())"
   ]
  },
  {
   "cell_type": "code",
   "execution_count": 7,
   "metadata": {},
   "outputs": [
    {
     "data": {
      "text/plain": [
       "load_time       0\n",
       "load_type       0\n",
       "load_weight     0\n",
       "dropoff_site    0\n",
       "dtype: int64"
      ]
     },
     "execution_count": 7,
     "metadata": {},
     "output_type": "execute_result"
    }
   ],
   "source": [
    "# Cek apakah dataset masih ada missing value\n",
    "df.isna().sum() "
   ]
  },
  {
   "cell_type": "code",
   "execution_count": 8,
   "metadata": {},
   "outputs": [
    {
     "data": {
      "text/html": [
       "<div>\n",
       "<style scoped>\n",
       "    .dataframe tbody tr th:only-of-type {\n",
       "        vertical-align: middle;\n",
       "    }\n",
       "\n",
       "    .dataframe tbody tr th {\n",
       "        vertical-align: top;\n",
       "    }\n",
       "\n",
       "    .dataframe thead th {\n",
       "        text-align: right;\n",
       "    }\n",
       "</style>\n",
       "<table border=\"1\" class=\"dataframe\">\n",
       "  <thead>\n",
       "    <tr style=\"text-align: right;\">\n",
       "      <th></th>\n",
       "      <th>load_time</th>\n",
       "      <th>load_type</th>\n",
       "      <th>load_weight</th>\n",
       "      <th>dropoff_site</th>\n",
       "    </tr>\n",
       "  </thead>\n",
       "  <tbody>\n",
       "    <tr>\n",
       "      <th>128289</th>\n",
       "      <td>2011-09-06 12:00:00 UTC</td>\n",
       "      <td>RECYCLING - SINGLE STREAM</td>\n",
       "      <td>-4480.0</td>\n",
       "      <td>TDS - MRF</td>\n",
       "    </tr>\n",
       "    <tr>\n",
       "      <th>96280</th>\n",
       "      <td>2014-02-01 12:10:00 UTC</td>\n",
       "      <td>RECYCLING - SINGLE STREAM</td>\n",
       "      <td>0.0</td>\n",
       "      <td>TDS - MRF</td>\n",
       "    </tr>\n",
       "    <tr>\n",
       "      <th>47058</th>\n",
       "      <td>2005-03-01 10:43:00 UTC</td>\n",
       "      <td>RECYCLING - COMINGLE</td>\n",
       "      <td>0.0</td>\n",
       "      <td>MRF</td>\n",
       "    </tr>\n",
       "    <tr>\n",
       "      <th>89556</th>\n",
       "      <td>2006-01-12 02:30:00 UTC</td>\n",
       "      <td>RECYCLED METAL</td>\n",
       "      <td>0.0</td>\n",
       "      <td>MRF</td>\n",
       "    </tr>\n",
       "    <tr>\n",
       "      <th>44318</th>\n",
       "      <td>2008-04-21 07:01:00 UTC</td>\n",
       "      <td>RECYCLING - PAPER</td>\n",
       "      <td>0.0</td>\n",
       "      <td>MRF</td>\n",
       "    </tr>\n",
       "    <tr>\n",
       "      <th>...</th>\n",
       "      <td>...</td>\n",
       "      <td>...</td>\n",
       "      <td>...</td>\n",
       "      <td>...</td>\n",
       "    </tr>\n",
       "    <tr>\n",
       "      <th>102380</th>\n",
       "      <td>2019-06-27 02:14:00 UTC</td>\n",
       "      <td>GARBAGE COLLECTIONS</td>\n",
       "      <td>30560.0</td>\n",
       "      <td>TDS - MRF</td>\n",
       "    </tr>\n",
       "    <tr>\n",
       "      <th>90084</th>\n",
       "      <td>2008-04-10 10:20:00 UTC</td>\n",
       "      <td>SWEEPING</td>\n",
       "      <td>31857.0</td>\n",
       "      <td>ELMONT</td>\n",
       "    </tr>\n",
       "    <tr>\n",
       "      <th>103455</th>\n",
       "      <td>2011-01-14 01:23:00 UTC</td>\n",
       "      <td>GARBAGE COLLECTIONS</td>\n",
       "      <td>35980.0</td>\n",
       "      <td>TDS - MRF</td>\n",
       "    </tr>\n",
       "    <tr>\n",
       "      <th>136518</th>\n",
       "      <td>2013-07-30 02:16:00 UTC</td>\n",
       "      <td>RECYCLING - SINGLE STREAM</td>\n",
       "      <td>45305.0</td>\n",
       "      <td>TDS - MRF</td>\n",
       "    </tr>\n",
       "    <tr>\n",
       "      <th>94689</th>\n",
       "      <td>2007-03-28 04:45:00 UTC</td>\n",
       "      <td>YARD TRIMMING</td>\n",
       "      <td>75000.0</td>\n",
       "      <td>ZILKER</td>\n",
       "    </tr>\n",
       "  </tbody>\n",
       "</table>\n",
       "<p>150000 rows × 4 columns</p>\n",
       "</div>"
      ],
      "text/plain": [
       "                      load_time                  load_type  load_weight  \\\n",
       "128289  2011-09-06 12:00:00 UTC  RECYCLING - SINGLE STREAM      -4480.0   \n",
       "96280   2014-02-01 12:10:00 UTC  RECYCLING - SINGLE STREAM          0.0   \n",
       "47058   2005-03-01 10:43:00 UTC       RECYCLING - COMINGLE          0.0   \n",
       "89556   2006-01-12 02:30:00 UTC             RECYCLED METAL          0.0   \n",
       "44318   2008-04-21 07:01:00 UTC          RECYCLING - PAPER          0.0   \n",
       "...                         ...                        ...          ...   \n",
       "102380  2019-06-27 02:14:00 UTC        GARBAGE COLLECTIONS      30560.0   \n",
       "90084   2008-04-10 10:20:00 UTC                   SWEEPING      31857.0   \n",
       "103455  2011-01-14 01:23:00 UTC        GARBAGE COLLECTIONS      35980.0   \n",
       "136518  2013-07-30 02:16:00 UTC  RECYCLING - SINGLE STREAM      45305.0   \n",
       "94689   2007-03-28 04:45:00 UTC              YARD TRIMMING      75000.0   \n",
       "\n",
       "       dropoff_site  \n",
       "128289    TDS - MRF  \n",
       "96280     TDS - MRF  \n",
       "47058           MRF  \n",
       "89556           MRF  \n",
       "44318           MRF  \n",
       "...             ...  \n",
       "102380    TDS - MRF  \n",
       "90084        ELMONT  \n",
       "103455    TDS - MRF  \n",
       "136518    TDS - MRF  \n",
       "94689        ZILKER  \n",
       "\n",
       "[150000 rows x 4 columns]"
      ]
     },
     "execution_count": 8,
     "metadata": {},
     "output_type": "execute_result"
    }
   ],
   "source": [
    "# Cek apakah dataset ada negative value\n",
    "df.sort_values('load_weight',ascending=True)"
   ]
  },
  {
   "cell_type": "code",
   "execution_count": 9,
   "metadata": {},
   "outputs": [],
   "source": [
    "# Ganti negative value dengan 0\n",
    "df[df['load_weight'] < 0] = 0"
   ]
  },
  {
   "cell_type": "code",
   "execution_count": 10,
   "metadata": {},
   "outputs": [
    {
     "data": {
      "text/html": [
       "<div>\n",
       "<style scoped>\n",
       "    .dataframe tbody tr th:only-of-type {\n",
       "        vertical-align: middle;\n",
       "    }\n",
       "\n",
       "    .dataframe tbody tr th {\n",
       "        vertical-align: top;\n",
       "    }\n",
       "\n",
       "    .dataframe thead th {\n",
       "        text-align: right;\n",
       "    }\n",
       "</style>\n",
       "<table border=\"1\" class=\"dataframe\">\n",
       "  <thead>\n",
       "    <tr style=\"text-align: right;\">\n",
       "      <th></th>\n",
       "      <th>load_time</th>\n",
       "      <th>load_type</th>\n",
       "      <th>load_weight</th>\n",
       "      <th>dropoff_site</th>\n",
       "    </tr>\n",
       "  </thead>\n",
       "  <tbody>\n",
       "    <tr>\n",
       "      <th>96280</th>\n",
       "      <td>2014-02-01 12:10:00 UTC</td>\n",
       "      <td>RECYCLING - SINGLE STREAM</td>\n",
       "      <td>0.0</td>\n",
       "      <td>TDS - MRF</td>\n",
       "    </tr>\n",
       "    <tr>\n",
       "      <th>47058</th>\n",
       "      <td>2005-03-01 10:43:00 UTC</td>\n",
       "      <td>RECYCLING - COMINGLE</td>\n",
       "      <td>0.0</td>\n",
       "      <td>MRF</td>\n",
       "    </tr>\n",
       "    <tr>\n",
       "      <th>89556</th>\n",
       "      <td>2006-01-12 02:30:00 UTC</td>\n",
       "      <td>RECYCLED METAL</td>\n",
       "      <td>0.0</td>\n",
       "      <td>MRF</td>\n",
       "    </tr>\n",
       "    <tr>\n",
       "      <th>44318</th>\n",
       "      <td>2008-04-21 07:01:00 UTC</td>\n",
       "      <td>RECYCLING - PAPER</td>\n",
       "      <td>0.0</td>\n",
       "      <td>MRF</td>\n",
       "    </tr>\n",
       "    <tr>\n",
       "      <th>50375</th>\n",
       "      <td>2007-05-15 12:00:00 UTC</td>\n",
       "      <td>RECYCLING - PAPER</td>\n",
       "      <td>0.0</td>\n",
       "      <td>MRF</td>\n",
       "    </tr>\n",
       "    <tr>\n",
       "      <th>...</th>\n",
       "      <td>...</td>\n",
       "      <td>...</td>\n",
       "      <td>...</td>\n",
       "      <td>...</td>\n",
       "    </tr>\n",
       "    <tr>\n",
       "      <th>102380</th>\n",
       "      <td>2019-06-27 02:14:00 UTC</td>\n",
       "      <td>GARBAGE COLLECTIONS</td>\n",
       "      <td>30560.0</td>\n",
       "      <td>TDS - MRF</td>\n",
       "    </tr>\n",
       "    <tr>\n",
       "      <th>90084</th>\n",
       "      <td>2008-04-10 10:20:00 UTC</td>\n",
       "      <td>SWEEPING</td>\n",
       "      <td>31857.0</td>\n",
       "      <td>ELMONT</td>\n",
       "    </tr>\n",
       "    <tr>\n",
       "      <th>103455</th>\n",
       "      <td>2011-01-14 01:23:00 UTC</td>\n",
       "      <td>GARBAGE COLLECTIONS</td>\n",
       "      <td>35980.0</td>\n",
       "      <td>TDS - MRF</td>\n",
       "    </tr>\n",
       "    <tr>\n",
       "      <th>136518</th>\n",
       "      <td>2013-07-30 02:16:00 UTC</td>\n",
       "      <td>RECYCLING - SINGLE STREAM</td>\n",
       "      <td>45305.0</td>\n",
       "      <td>TDS - MRF</td>\n",
       "    </tr>\n",
       "    <tr>\n",
       "      <th>94689</th>\n",
       "      <td>2007-03-28 04:45:00 UTC</td>\n",
       "      <td>YARD TRIMMING</td>\n",
       "      <td>75000.0</td>\n",
       "      <td>ZILKER</td>\n",
       "    </tr>\n",
       "  </tbody>\n",
       "</table>\n",
       "<p>150000 rows × 4 columns</p>\n",
       "</div>"
      ],
      "text/plain": [
       "                      load_time                  load_type  load_weight  \\\n",
       "96280   2014-02-01 12:10:00 UTC  RECYCLING - SINGLE STREAM          0.0   \n",
       "47058   2005-03-01 10:43:00 UTC       RECYCLING - COMINGLE          0.0   \n",
       "89556   2006-01-12 02:30:00 UTC             RECYCLED METAL          0.0   \n",
       "44318   2008-04-21 07:01:00 UTC          RECYCLING - PAPER          0.0   \n",
       "50375   2007-05-15 12:00:00 UTC          RECYCLING - PAPER          0.0   \n",
       "...                         ...                        ...          ...   \n",
       "102380  2019-06-27 02:14:00 UTC        GARBAGE COLLECTIONS      30560.0   \n",
       "90084   2008-04-10 10:20:00 UTC                   SWEEPING      31857.0   \n",
       "103455  2011-01-14 01:23:00 UTC        GARBAGE COLLECTIONS      35980.0   \n",
       "136518  2013-07-30 02:16:00 UTC  RECYCLING - SINGLE STREAM      45305.0   \n",
       "94689   2007-03-28 04:45:00 UTC              YARD TRIMMING      75000.0   \n",
       "\n",
       "       dropoff_site  \n",
       "96280     TDS - MRF  \n",
       "47058           MRF  \n",
       "89556           MRF  \n",
       "44318           MRF  \n",
       "50375           MRF  \n",
       "...             ...  \n",
       "102380    TDS - MRF  \n",
       "90084        ELMONT  \n",
       "103455    TDS - MRF  \n",
       "136518    TDS - MRF  \n",
       "94689        ZILKER  \n",
       "\n",
       "[150000 rows x 4 columns]"
      ]
     },
     "execution_count": 10,
     "metadata": {},
     "output_type": "execute_result"
    }
   ],
   "source": [
    "# Cek apakah masih ada dataset negative value\n",
    "df.sort_values('load_weight',ascending=True)"
   ]
  },
  {
   "cell_type": "markdown",
   "metadata": {},
   "source": [
    "##### 2. Selanjutnya, lakukan eksplorasi data sederhana guna mengetahui dan mengenali data yang kamu punya. Kamu bisa lakukan hal-hal berikut untuk mengeksplorasi data kamu."
   ]
  },
  {
   "cell_type": "markdown",
   "metadata": {},
   "source": [
    "### Data Exploratory"
   ]
  },
  {
   "cell_type": "markdown",
   "metadata": {},
   "source": [
    "#### Melihat rentang waktu pengambilan data\n"
   ]
  },
  {
   "cell_type": "code",
   "execution_count": 11,
   "metadata": {},
   "outputs": [],
   "source": [
    "# mengubah datatype load_time ke date\n",
    "df['load_time'] = pd.to_datetime(df['load_time'])"
   ]
  },
  {
   "cell_type": "code",
   "execution_count": 12,
   "metadata": {},
   "outputs": [
    {
     "data": {
      "text/plain": [
       "load_time       datetime64[ns, UTC]\n",
       "load_type                    object\n",
       "load_weight                 float64\n",
       "dropoff_site                 object\n",
       "dtype: object"
      ]
     },
     "execution_count": 12,
     "metadata": {},
     "output_type": "execute_result"
    }
   ],
   "source": [
    "# cek datatype load_time apakah sudah berubah ke date\n",
    "df.dtypes"
   ]
  },
  {
   "cell_type": "code",
   "execution_count": 13,
   "metadata": {},
   "outputs": [
    {
     "data": {
      "text/plain": [
       "0        2009-08-07 11:51:00+00:00\n",
       "1        2008-04-11 12:31:00+00:00\n",
       "2        2009-01-16 12:58:00+00:00\n",
       "3        2009-07-10 11:21:00+00:00\n",
       "4        2006-02-03 12:36:00+00:00\n",
       "                    ...           \n",
       "149995   2011-08-17 12:45:00+00:00\n",
       "149996   2011-06-08 10:59:00+00:00\n",
       "149997   2012-04-11 12:09:00+00:00\n",
       "149998   2011-08-31 02:50:00+00:00\n",
       "149999   2011-07-20 11:21:00+00:00\n",
       "Name: load_time, Length: 150000, dtype: datetime64[ns, UTC]"
      ]
     },
     "execution_count": 13,
     "metadata": {},
     "output_type": "execute_result"
    }
   ],
   "source": [
    "#set format date\n",
    "pd.to_datetime(df['load_time'], format='%b %d, %Y')"
   ]
  },
  {
   "cell_type": "code",
   "execution_count": 14,
   "metadata": {},
   "outputs": [
    {
     "data": {
      "text/html": [
       "<div>\n",
       "<style scoped>\n",
       "    .dataframe tbody tr th:only-of-type {\n",
       "        vertical-align: middle;\n",
       "    }\n",
       "\n",
       "    .dataframe tbody tr th {\n",
       "        vertical-align: top;\n",
       "    }\n",
       "\n",
       "    .dataframe thead th {\n",
       "        text-align: right;\n",
       "    }\n",
       "</style>\n",
       "<table border=\"1\" class=\"dataframe\">\n",
       "  <thead>\n",
       "    <tr style=\"text-align: right;\">\n",
       "      <th></th>\n",
       "      <th>load_time</th>\n",
       "      <th>load_type</th>\n",
       "      <th>load_weight</th>\n",
       "      <th>dropoff_site</th>\n",
       "    </tr>\n",
       "  </thead>\n",
       "  <tbody>\n",
       "    <tr>\n",
       "      <th>128289</th>\n",
       "      <td>1970-01-01 00:00:00+00:00</td>\n",
       "      <td>0</td>\n",
       "      <td>0.0</td>\n",
       "      <td>0</td>\n",
       "    </tr>\n",
       "    <tr>\n",
       "      <th>26375</th>\n",
       "      <td>2000-01-26 12:39:00+00:00</td>\n",
       "      <td>RECYCLING - PAPER</td>\n",
       "      <td>2940.0</td>\n",
       "      <td>MRF</td>\n",
       "    </tr>\n",
       "    <tr>\n",
       "      <th>53702</th>\n",
       "      <td>2004-08-30 01:26:00+00:00</td>\n",
       "      <td>RECYCLING - PAPER</td>\n",
       "      <td>8580.0</td>\n",
       "      <td>MRF</td>\n",
       "    </tr>\n",
       "    <tr>\n",
       "      <th>53635</th>\n",
       "      <td>2004-08-30 01:40:00+00:00</td>\n",
       "      <td>RECYCLING - COMINGLE</td>\n",
       "      <td>4580.0</td>\n",
       "      <td>MRF</td>\n",
       "    </tr>\n",
       "    <tr>\n",
       "      <th>20901</th>\n",
       "      <td>2004-10-01 01:00:00+00:00</td>\n",
       "      <td>RECYCLING - PAPER</td>\n",
       "      <td>2940.0</td>\n",
       "      <td>MRF</td>\n",
       "    </tr>\n",
       "    <tr>\n",
       "      <th>...</th>\n",
       "      <td>...</td>\n",
       "      <td>...</td>\n",
       "      <td>...</td>\n",
       "      <td>...</td>\n",
       "    </tr>\n",
       "    <tr>\n",
       "      <th>125955</th>\n",
       "      <td>2021-07-11 07:05:24+00:00</td>\n",
       "      <td>RECYCLING - SINGLE STREAM</td>\n",
       "      <td>5800.0</td>\n",
       "      <td>TDS - MRF</td>\n",
       "    </tr>\n",
       "    <tr>\n",
       "      <th>140990</th>\n",
       "      <td>2021-07-11 07:05:51+00:00</td>\n",
       "      <td>RECYCLING - SINGLE STREAM</td>\n",
       "      <td>0.0</td>\n",
       "      <td>TDS - MRF</td>\n",
       "    </tr>\n",
       "    <tr>\n",
       "      <th>94235</th>\n",
       "      <td>2021-07-11 07:07:01+00:00</td>\n",
       "      <td>GARBAGE COLLECTIONS</td>\n",
       "      <td>5800.0</td>\n",
       "      <td>ZILKER</td>\n",
       "    </tr>\n",
       "    <tr>\n",
       "      <th>94234</th>\n",
       "      <td>2021-07-11 07:07:01+00:00</td>\n",
       "      <td>GARBAGE COLLECTIONS</td>\n",
       "      <td>5800.0</td>\n",
       "      <td>ZILKER</td>\n",
       "    </tr>\n",
       "    <tr>\n",
       "      <th>9967</th>\n",
       "      <td>2021-07-11 07:07:05+00:00</td>\n",
       "      <td>TIRES</td>\n",
       "      <td>2120.0</td>\n",
       "      <td>MRF</td>\n",
       "    </tr>\n",
       "  </tbody>\n",
       "</table>\n",
       "<p>150000 rows × 4 columns</p>\n",
       "</div>"
      ],
      "text/plain": [
       "                       load_time                  load_type  load_weight  \\\n",
       "128289 1970-01-01 00:00:00+00:00                          0          0.0   \n",
       "26375  2000-01-26 12:39:00+00:00          RECYCLING - PAPER       2940.0   \n",
       "53702  2004-08-30 01:26:00+00:00          RECYCLING - PAPER       8580.0   \n",
       "53635  2004-08-30 01:40:00+00:00       RECYCLING - COMINGLE       4580.0   \n",
       "20901  2004-10-01 01:00:00+00:00          RECYCLING - PAPER       2940.0   \n",
       "...                          ...                        ...          ...   \n",
       "125955 2021-07-11 07:05:24+00:00  RECYCLING - SINGLE STREAM       5800.0   \n",
       "140990 2021-07-11 07:05:51+00:00  RECYCLING - SINGLE STREAM          0.0   \n",
       "94235  2021-07-11 07:07:01+00:00        GARBAGE COLLECTIONS       5800.0   \n",
       "94234  2021-07-11 07:07:01+00:00        GARBAGE COLLECTIONS       5800.0   \n",
       "9967   2021-07-11 07:07:05+00:00                      TIRES       2120.0   \n",
       "\n",
       "       dropoff_site  \n",
       "128289            0  \n",
       "26375           MRF  \n",
       "53702           MRF  \n",
       "53635           MRF  \n",
       "20901           MRF  \n",
       "...             ...  \n",
       "125955    TDS - MRF  \n",
       "140990    TDS - MRF  \n",
       "94235        ZILKER  \n",
       "94234        ZILKER  \n",
       "9967            MRF  \n",
       "\n",
       "[150000 rows x 4 columns]"
      ]
     },
     "execution_count": 14,
     "metadata": {},
     "output_type": "execute_result"
    }
   ],
   "source": [
    "#sort values load time dari terlama sampai terbaru\n",
    "df.sort_values('load_time',ascending=True)"
   ]
  },
  {
   "cell_type": "markdown",
   "metadata": {},
   "source": [
    "Dari Dataset diatas rentang waktu pengambilan data dari tahun 2000-01-26 sampai tahun 2021-07-11"
   ]
  },
  {
   "cell_type": "markdown",
   "metadata": {},
   "source": [
    "#### Ada apa saja tipe load sampah di kota Austin berdasarkan data\n"
   ]
  },
  {
   "cell_type": "code",
   "execution_count": 15,
   "metadata": {},
   "outputs": [
    {
     "data": {
      "text/html": [
       "<div>\n",
       "<style scoped>\n",
       "    .dataframe tbody tr th:only-of-type {\n",
       "        vertical-align: middle;\n",
       "    }\n",
       "\n",
       "    .dataframe tbody tr th {\n",
       "        vertical-align: top;\n",
       "    }\n",
       "\n",
       "    .dataframe thead th {\n",
       "        text-align: right;\n",
       "    }\n",
       "</style>\n",
       "<table border=\"1\" class=\"dataframe\">\n",
       "  <thead>\n",
       "    <tr style=\"text-align: right;\">\n",
       "      <th></th>\n",
       "      <th>load_weight</th>\n",
       "    </tr>\n",
       "    <tr>\n",
       "      <th>load_type</th>\n",
       "      <th></th>\n",
       "    </tr>\n",
       "  </thead>\n",
       "  <tbody>\n",
       "    <tr>\n",
       "      <th>0</th>\n",
       "      <td>0.000000</td>\n",
       "    </tr>\n",
       "    <tr>\n",
       "      <th>RECYCLING - PLASTIC BAGS</th>\n",
       "      <td>170.000000</td>\n",
       "    </tr>\n",
       "    <tr>\n",
       "      <th>DEAD ANIMAL</th>\n",
       "      <td>312.903226</td>\n",
       "    </tr>\n",
       "    <tr>\n",
       "      <th>TIRES</th>\n",
       "      <td>2027.520594</td>\n",
       "    </tr>\n",
       "    <tr>\n",
       "      <th>LITTER</th>\n",
       "      <td>2184.615385</td>\n",
       "    </tr>\n",
       "    <tr>\n",
       "      <th>RECYCLING - COMINGLE</th>\n",
       "      <td>3250.953696</td>\n",
       "    </tr>\n",
       "    <tr>\n",
       "      <th>MIXED LITTER</th>\n",
       "      <td>4186.153846</td>\n",
       "    </tr>\n",
       "    <tr>\n",
       "      <th>RECYCLING - PAPER</th>\n",
       "      <td>4407.794990</td>\n",
       "    </tr>\n",
       "    <tr>\n",
       "      <th>BRUSH</th>\n",
       "      <td>5118.453125</td>\n",
       "    </tr>\n",
       "    <tr>\n",
       "      <th>BULK</th>\n",
       "      <td>5634.761905</td>\n",
       "    </tr>\n",
       "    <tr>\n",
       "      <th>SWEEPING</th>\n",
       "      <td>5844.154074</td>\n",
       "    </tr>\n",
       "    <tr>\n",
       "      <th>CONTAMINATED RECYCLING</th>\n",
       "      <td>6980.000000</td>\n",
       "    </tr>\n",
       "    <tr>\n",
       "      <th>YARD TRIMMING - X-MAS TREES</th>\n",
       "      <td>7500.000000</td>\n",
       "    </tr>\n",
       "    <tr>\n",
       "      <th>RECYCLED METAL</th>\n",
       "      <td>9254.750000</td>\n",
       "    </tr>\n",
       "    <tr>\n",
       "      <th>MULCH</th>\n",
       "      <td>9370.000000</td>\n",
       "    </tr>\n",
       "    <tr>\n",
       "      <th>RECYCLING - SINGLE STREAM</th>\n",
       "      <td>9759.279744</td>\n",
       "    </tr>\n",
       "    <tr>\n",
       "      <th>ORGANICS</th>\n",
       "      <td>11831.428571</td>\n",
       "    </tr>\n",
       "    <tr>\n",
       "      <th>YARD TRIMMING</th>\n",
       "      <td>12930.848943</td>\n",
       "    </tr>\n",
       "    <tr>\n",
       "      <th>GARBAGE COLLECTIONS</th>\n",
       "      <td>16892.203791</td>\n",
       "    </tr>\n",
       "  </tbody>\n",
       "</table>\n",
       "</div>"
      ],
      "text/plain": [
       "                              load_weight\n",
       "load_type                                \n",
       "0                                0.000000\n",
       "RECYCLING - PLASTIC BAGS       170.000000\n",
       "DEAD ANIMAL                    312.903226\n",
       "TIRES                         2027.520594\n",
       "LITTER                        2184.615385\n",
       "RECYCLING - COMINGLE          3250.953696\n",
       "MIXED LITTER                  4186.153846\n",
       "RECYCLING - PAPER             4407.794990\n",
       "BRUSH                         5118.453125\n",
       "BULK                          5634.761905\n",
       "SWEEPING                      5844.154074\n",
       "CONTAMINATED RECYCLING        6980.000000\n",
       "YARD TRIMMING - X-MAS TREES   7500.000000\n",
       "RECYCLED METAL                9254.750000\n",
       "MULCH                         9370.000000\n",
       "RECYCLING - SINGLE STREAM     9759.279744\n",
       "ORGANICS                     11831.428571\n",
       "YARD TRIMMING                12930.848943\n",
       "GARBAGE COLLECTIONS          16892.203791"
      ]
     },
     "execution_count": 15,
     "metadata": {},
     "output_type": "execute_result"
    }
   ],
   "source": [
    "#filter data tipe load sampah\n",
    "df.groupby(['load_type'])[['load_weight']].mean().sort_values(by='load_weight')"
   ]
  },
  {
   "cell_type": "markdown",
   "metadata": {},
   "source": [
    "#### Mengetahui tempat pembuangan sampah ada dimana saja"
   ]
  },
  {
   "cell_type": "code",
   "execution_count": 16,
   "metadata": {},
   "outputs": [
    {
     "data": {
      "text/html": [
       "<div>\n",
       "<style scoped>\n",
       "    .dataframe tbody tr th:only-of-type {\n",
       "        vertical-align: middle;\n",
       "    }\n",
       "\n",
       "    .dataframe tbody tr th {\n",
       "        vertical-align: top;\n",
       "    }\n",
       "\n",
       "    .dataframe thead th {\n",
       "        text-align: right;\n",
       "    }\n",
       "</style>\n",
       "<table border=\"1\" class=\"dataframe\">\n",
       "  <thead>\n",
       "    <tr style=\"text-align: right;\">\n",
       "      <th></th>\n",
       "      <th>load_weight</th>\n",
       "    </tr>\n",
       "    <tr>\n",
       "      <th>dropoff_site</th>\n",
       "      <th></th>\n",
       "    </tr>\n",
       "  </thead>\n",
       "  <tbody>\n",
       "    <tr>\n",
       "      <th>0</th>\n",
       "      <td>0.000000</td>\n",
       "    </tr>\n",
       "    <tr>\n",
       "      <th>MRF</th>\n",
       "      <td>5305.141835</td>\n",
       "    </tr>\n",
       "    <tr>\n",
       "      <th>WILCAB</th>\n",
       "      <td>5817.066086</td>\n",
       "    </tr>\n",
       "    <tr>\n",
       "      <th>ELMONT</th>\n",
       "      <td>5832.501368</td>\n",
       "    </tr>\n",
       "    <tr>\n",
       "      <th>CLARKSON</th>\n",
       "      <td>5833.264249</td>\n",
       "    </tr>\n",
       "    <tr>\n",
       "      <th>KRAMER</th>\n",
       "      <td>5855.632911</td>\n",
       "    </tr>\n",
       "    <tr>\n",
       "      <th>PARK BEND</th>\n",
       "      <td>7474.267677</td>\n",
       "    </tr>\n",
       "    <tr>\n",
       "      <th>ZILKER</th>\n",
       "      <td>9316.125000</td>\n",
       "    </tr>\n",
       "    <tr>\n",
       "      <th>TDS - MRF</th>\n",
       "      <td>10116.959564</td>\n",
       "    </tr>\n",
       "  </tbody>\n",
       "</table>\n",
       "</div>"
      ],
      "text/plain": [
       "               load_weight\n",
       "dropoff_site              \n",
       "0                 0.000000\n",
       "MRF            5305.141835\n",
       "WILCAB         5817.066086\n",
       "ELMONT         5832.501368\n",
       "CLARKSON       5833.264249\n",
       "KRAMER         5855.632911\n",
       "PARK BEND      7474.267677\n",
       "ZILKER         9316.125000\n",
       "TDS - MRF     10116.959564"
      ]
     },
     "execution_count": 16,
     "metadata": {},
     "output_type": "execute_result"
    }
   ],
   "source": [
    "#filter data dropoff site ada dimana saja\n",
    "df.groupby(['dropoff_site'])[['load_weight']].mean().sort_values(by='load_weight')"
   ]
  },
  {
   "cell_type": "markdown",
   "metadata": {},
   "source": [
    "##### 3. Berdasarkan central tendency (mean, median, dan modus) untuk masing-masing site, insight/informasi apa yang bisa kamu sampaikan kepada pemerintah kota? (Caution: Jangan gunakan pd.DataFrame.describe())"
   ]
  },
  {
   "cell_type": "markdown",
   "metadata": {},
   "source": [
    "#### Central Tendency"
   ]
  },
  {
   "cell_type": "code",
   "execution_count": 17,
   "metadata": {},
   "outputs": [
    {
     "data": {
      "text/plain": [
       "7088.681486666666"
      ]
     },
     "execution_count": 17,
     "metadata": {},
     "output_type": "execute_result"
    }
   ],
   "source": [
    "#hitung mean load_weight\n",
    "df['load_weight'].mean()"
   ]
  },
  {
   "cell_type": "markdown",
   "metadata": {},
   "source": [
    "Insight\n",
    "\n",
    "rata rata load_weight pada 150.000 dataset yang diambil sebesar 7088.6814"
   ]
  },
  {
   "cell_type": "code",
   "execution_count": 18,
   "metadata": {},
   "outputs": [
    {
     "data": {
      "text/plain": [
       "5800.0"
      ]
     },
     "execution_count": 18,
     "metadata": {},
     "output_type": "execute_result"
    }
   ],
   "source": [
    "#hitung median load_weight\n",
    "df['load_weight'].median()"
   ]
  },
  {
   "cell_type": "markdown",
   "metadata": {},
   "source": [
    "Insight\n",
    " \n",
    "median load_weight pada 150.000 dataset yang diambil sebesar 5800"
   ]
  },
  {
   "cell_type": "code",
   "execution_count": 19,
   "metadata": {},
   "outputs": [
    {
     "data": {
      "text/plain": [
       "0    5800.0\n",
       "Name: load_weight, dtype: float64"
      ]
     },
     "execution_count": 19,
     "metadata": {},
     "output_type": "execute_result"
    }
   ],
   "source": [
    "#hitung mode load_weight\n",
    "df['load_weight'].mode()"
   ]
  },
  {
   "cell_type": "markdown",
   "metadata": {},
   "source": [
    "Insight \n",
    "\n",
    "modus load_weight pada 150.000 dataset yang diambil sebesar 5800"
   ]
  },
  {
   "cell_type": "markdown",
   "metadata": {},
   "source": [
    "Alasan kenapa Modus dan Median memiliki angka yang sama adalah karena ketika ada 5066 missing value. \n",
    "\n",
    "Missing Value diisi dengan median, oleh karena itu ada 5066 file dengan load weight yang sama "
   ]
  },
  {
   "cell_type": "markdown",
   "metadata": {},
   "source": [
    "##### 4. Pilih site yang paling menarik perhatian kamu, dan berikan alasannya."
   ]
  },
  {
   "cell_type": "code",
   "execution_count": 20,
   "metadata": {},
   "outputs": [
    {
     "data": {
      "text/plain": [
       "dropoff_site\n",
       "0                1\n",
       "CLARKSON       386\n",
       "ELMONT        1462\n",
       "KRAMER         316\n",
       "MRF          89625\n",
       "PARK BEND      396\n",
       "TDS - MRF    54036\n",
       "WILCAB        2754\n",
       "ZILKER        1024\n",
       "dtype: int64"
      ]
     },
     "execution_count": 20,
     "metadata": {},
     "output_type": "execute_result"
    }
   ],
   "source": [
    "#cek berapa banyak dropoff_site\n",
    "df.pivot_table(index=['dropoff_site'], aggfunc ='size')\n"
   ]
  },
  {
   "cell_type": "code",
   "execution_count": 21,
   "metadata": {},
   "outputs": [
    {
     "data": {
      "text/html": [
       "<div>\n",
       "<style scoped>\n",
       "    .dataframe tbody tr th:only-of-type {\n",
       "        vertical-align: middle;\n",
       "    }\n",
       "\n",
       "    .dataframe tbody tr th {\n",
       "        vertical-align: top;\n",
       "    }\n",
       "\n",
       "    .dataframe thead th {\n",
       "        text-align: right;\n",
       "    }\n",
       "</style>\n",
       "<table border=\"1\" class=\"dataframe\">\n",
       "  <thead>\n",
       "    <tr style=\"text-align: right;\">\n",
       "      <th></th>\n",
       "      <th>load_weight</th>\n",
       "    </tr>\n",
       "    <tr>\n",
       "      <th>dropoff_site</th>\n",
       "      <th></th>\n",
       "    </tr>\n",
       "  </thead>\n",
       "  <tbody>\n",
       "    <tr>\n",
       "      <th>0</th>\n",
       "      <td>0.000000</td>\n",
       "    </tr>\n",
       "    <tr>\n",
       "      <th>MRF</th>\n",
       "      <td>5305.141835</td>\n",
       "    </tr>\n",
       "    <tr>\n",
       "      <th>WILCAB</th>\n",
       "      <td>5817.066086</td>\n",
       "    </tr>\n",
       "    <tr>\n",
       "      <th>ELMONT</th>\n",
       "      <td>5832.501368</td>\n",
       "    </tr>\n",
       "    <tr>\n",
       "      <th>CLARKSON</th>\n",
       "      <td>5833.264249</td>\n",
       "    </tr>\n",
       "    <tr>\n",
       "      <th>KRAMER</th>\n",
       "      <td>5855.632911</td>\n",
       "    </tr>\n",
       "    <tr>\n",
       "      <th>PARK BEND</th>\n",
       "      <td>7474.267677</td>\n",
       "    </tr>\n",
       "    <tr>\n",
       "      <th>ZILKER</th>\n",
       "      <td>9316.125000</td>\n",
       "    </tr>\n",
       "    <tr>\n",
       "      <th>TDS - MRF</th>\n",
       "      <td>10116.959564</td>\n",
       "    </tr>\n",
       "  </tbody>\n",
       "</table>\n",
       "</div>"
      ],
      "text/plain": [
       "               load_weight\n",
       "dropoff_site              \n",
       "0                 0.000000\n",
       "MRF            5305.141835\n",
       "WILCAB         5817.066086\n",
       "ELMONT         5832.501368\n",
       "CLARKSON       5833.264249\n",
       "KRAMER         5855.632911\n",
       "PARK BEND      7474.267677\n",
       "ZILKER         9316.125000\n",
       "TDS - MRF     10116.959564"
      ]
     },
     "execution_count": 21,
     "metadata": {},
     "output_type": "execute_result"
    }
   ],
   "source": [
    "#cek rata rata load_weight per dropoff_site\n",
    "df.groupby(['dropoff_site'])[['load_weight']].mean().sort_values(by='load_weight')"
   ]
  },
  {
   "cell_type": "code",
   "execution_count": 22,
   "metadata": {},
   "outputs": [
    {
     "data": {
      "text/html": [
       "<div>\n",
       "<style scoped>\n",
       "    .dataframe tbody tr th:only-of-type {\n",
       "        vertical-align: middle;\n",
       "    }\n",
       "\n",
       "    .dataframe tbody tr th {\n",
       "        vertical-align: top;\n",
       "    }\n",
       "\n",
       "    .dataframe thead th {\n",
       "        text-align: right;\n",
       "    }\n",
       "</style>\n",
       "<table border=\"1\" class=\"dataframe\">\n",
       "  <thead>\n",
       "    <tr style=\"text-align: right;\">\n",
       "      <th></th>\n",
       "      <th>load_type</th>\n",
       "    </tr>\n",
       "    <tr>\n",
       "      <th>dropoff_site</th>\n",
       "      <th></th>\n",
       "    </tr>\n",
       "  </thead>\n",
       "  <tbody>\n",
       "    <tr>\n",
       "      <th>0</th>\n",
       "      <td>1</td>\n",
       "    </tr>\n",
       "    <tr>\n",
       "      <th>CLARKSON</th>\n",
       "      <td>1</td>\n",
       "    </tr>\n",
       "    <tr>\n",
       "      <th>ELMONT</th>\n",
       "      <td>1</td>\n",
       "    </tr>\n",
       "    <tr>\n",
       "      <th>KRAMER</th>\n",
       "      <td>3</td>\n",
       "    </tr>\n",
       "    <tr>\n",
       "      <th>WILCAB</th>\n",
       "      <td>3</td>\n",
       "    </tr>\n",
       "    <tr>\n",
       "      <th>PARK BEND</th>\n",
       "      <td>4</td>\n",
       "    </tr>\n",
       "    <tr>\n",
       "      <th>ZILKER</th>\n",
       "      <td>6</td>\n",
       "    </tr>\n",
       "    <tr>\n",
       "      <th>TDS - MRF</th>\n",
       "      <td>12</td>\n",
       "    </tr>\n",
       "    <tr>\n",
       "      <th>MRF</th>\n",
       "      <td>14</td>\n",
       "    </tr>\n",
       "  </tbody>\n",
       "</table>\n",
       "</div>"
      ],
      "text/plain": [
       "              load_type\n",
       "dropoff_site           \n",
       "0                     1\n",
       "CLARKSON              1\n",
       "ELMONT                1\n",
       "KRAMER                3\n",
       "WILCAB                3\n",
       "PARK BEND             4\n",
       "ZILKER                6\n",
       "TDS - MRF            12\n",
       "MRF                  14"
      ]
     },
     "execution_count": 22,
     "metadata": {},
     "output_type": "execute_result"
    }
   ],
   "source": [
    "#query load type\n",
    "df.groupby(['dropoff_site'])[['load_type']].nunique().sort_values(by='load_type')"
   ]
  },
  {
   "cell_type": "markdown",
   "metadata": {},
   "source": [
    "Dari dataset tersebut site yang paling menarik perhatian adalah MRF karena site ini  load weight teringan sebesar 5305.141 dan memiliki load_type terbanyak, dari total 18 load type ada 14 load type yang dapat ditampung di dropoff site MRF "
   ]
  },
  {
   "cell_type": "markdown",
   "metadata": {},
   "source": [
    "##### 5. Gunakan site yang kamu pilih untuk dicek apakah data load_weight ada outlier atau tidak. Gunakan teknik yang tepat sesuai dengan distribusi dari datanya!. Jika iya, berapa persen jumlah outliernya? dan bandingkan central tendency data yang telah dikeluarkan outliernya dengan yang belum (hasil dari perhitungan nomor 3).`"
   ]
  },
  {
   "cell_type": "markdown",
   "metadata": {},
   "source": [
    "Site yang saya pilih ada MRF. saya akan membandingkan Central tendency data yang dikeluarkan outlier nya dengan yang belum serta berapa persen jumlah outlier dari total data "
   ]
  },
  {
   "cell_type": "markdown",
   "metadata": {},
   "source": [
    "Langkah 1 Buat DataFrame baru dengan site yang dipilih yaitu site MRF"
   ]
  },
  {
   "cell_type": "code",
   "execution_count": 23,
   "metadata": {},
   "outputs": [
    {
     "data": {
      "text/html": [
       "<div>\n",
       "<style scoped>\n",
       "    .dataframe tbody tr th:only-of-type {\n",
       "        vertical-align: middle;\n",
       "    }\n",
       "\n",
       "    .dataframe tbody tr th {\n",
       "        vertical-align: top;\n",
       "    }\n",
       "\n",
       "    .dataframe thead th {\n",
       "        text-align: right;\n",
       "    }\n",
       "</style>\n",
       "<table border=\"1\" class=\"dataframe\">\n",
       "  <thead>\n",
       "    <tr style=\"text-align: right;\">\n",
       "      <th></th>\n",
       "      <th>load_time</th>\n",
       "      <th>load_type</th>\n",
       "      <th>load_weight</th>\n",
       "      <th>dropoff_site</th>\n",
       "    </tr>\n",
       "  </thead>\n",
       "  <tbody>\n",
       "    <tr>\n",
       "      <th>0</th>\n",
       "      <td>2009-08-07 11:51:00+00:00</td>\n",
       "      <td>RECYCLING - SINGLE STREAM</td>\n",
       "      <td>4400.0</td>\n",
       "      <td>MRF</td>\n",
       "    </tr>\n",
       "    <tr>\n",
       "      <th>1</th>\n",
       "      <td>2008-04-11 12:31:00+00:00</td>\n",
       "      <td>RECYCLING - PAPER</td>\n",
       "      <td>1920.0</td>\n",
       "      <td>MRF</td>\n",
       "    </tr>\n",
       "    <tr>\n",
       "      <th>2</th>\n",
       "      <td>2009-01-16 12:58:00+00:00</td>\n",
       "      <td>RECYCLING - SINGLE STREAM</td>\n",
       "      <td>4140.0</td>\n",
       "      <td>MRF</td>\n",
       "    </tr>\n",
       "    <tr>\n",
       "      <th>3</th>\n",
       "      <td>2009-07-10 11:21:00+00:00</td>\n",
       "      <td>RECYCLING - SINGLE STREAM</td>\n",
       "      <td>4020.0</td>\n",
       "      <td>MRF</td>\n",
       "    </tr>\n",
       "    <tr>\n",
       "      <th>4</th>\n",
       "      <td>2006-02-03 12:36:00+00:00</td>\n",
       "      <td>RECYCLING - COMINGLE</td>\n",
       "      <td>1700.0</td>\n",
       "      <td>MRF</td>\n",
       "    </tr>\n",
       "    <tr>\n",
       "      <th>...</th>\n",
       "      <td>...</td>\n",
       "      <td>...</td>\n",
       "      <td>...</td>\n",
       "      <td>...</td>\n",
       "    </tr>\n",
       "    <tr>\n",
       "      <th>89620</th>\n",
       "      <td>2008-10-10 01:30:00+00:00</td>\n",
       "      <td>RECYCLING - COMINGLE</td>\n",
       "      <td>6700.0</td>\n",
       "      <td>MRF</td>\n",
       "    </tr>\n",
       "    <tr>\n",
       "      <th>89621</th>\n",
       "      <td>2020-12-21 11:38:00+00:00</td>\n",
       "      <td>TIRES</td>\n",
       "      <td>1000.0</td>\n",
       "      <td>MRF</td>\n",
       "    </tr>\n",
       "    <tr>\n",
       "      <th>89622</th>\n",
       "      <td>2020-12-23 11:59:00+00:00</td>\n",
       "      <td>TIRES</td>\n",
       "      <td>1220.0</td>\n",
       "      <td>MRF</td>\n",
       "    </tr>\n",
       "    <tr>\n",
       "      <th>89623</th>\n",
       "      <td>2021-03-20 08:35:00+00:00</td>\n",
       "      <td>TIRES</td>\n",
       "      <td>520.0</td>\n",
       "      <td>MRF</td>\n",
       "    </tr>\n",
       "    <tr>\n",
       "      <th>89624</th>\n",
       "      <td>2021-06-25 11:07:00+00:00</td>\n",
       "      <td>TIRES</td>\n",
       "      <td>1840.0</td>\n",
       "      <td>MRF</td>\n",
       "    </tr>\n",
       "  </tbody>\n",
       "</table>\n",
       "<p>89625 rows × 4 columns</p>\n",
       "</div>"
      ],
      "text/plain": [
       "                      load_time                  load_type  load_weight  \\\n",
       "0     2009-08-07 11:51:00+00:00  RECYCLING - SINGLE STREAM       4400.0   \n",
       "1     2008-04-11 12:31:00+00:00          RECYCLING - PAPER       1920.0   \n",
       "2     2009-01-16 12:58:00+00:00  RECYCLING - SINGLE STREAM       4140.0   \n",
       "3     2009-07-10 11:21:00+00:00  RECYCLING - SINGLE STREAM       4020.0   \n",
       "4     2006-02-03 12:36:00+00:00       RECYCLING - COMINGLE       1700.0   \n",
       "...                         ...                        ...          ...   \n",
       "89620 2008-10-10 01:30:00+00:00       RECYCLING - COMINGLE       6700.0   \n",
       "89621 2020-12-21 11:38:00+00:00                      TIRES       1000.0   \n",
       "89622 2020-12-23 11:59:00+00:00                      TIRES       1220.0   \n",
       "89623 2021-03-20 08:35:00+00:00                      TIRES        520.0   \n",
       "89624 2021-06-25 11:07:00+00:00                      TIRES       1840.0   \n",
       "\n",
       "      dropoff_site  \n",
       "0              MRF  \n",
       "1              MRF  \n",
       "2              MRF  \n",
       "3              MRF  \n",
       "4              MRF  \n",
       "...            ...  \n",
       "89620          MRF  \n",
       "89621          MRF  \n",
       "89622          MRF  \n",
       "89623          MRF  \n",
       "89624          MRF  \n",
       "\n",
       "[89625 rows x 4 columns]"
      ]
     },
     "execution_count": 23,
     "metadata": {},
     "output_type": "execute_result"
    }
   ],
   "source": [
    "#buat dataframe MRF\n",
    "df_MRF = df.loc[df['dropoff_site'] == 'MRF'] \n",
    "df_MRF"
   ]
  },
  {
   "cell_type": "markdown",
   "metadata": {},
   "source": [
    "Langkah 2 Cek Central Tendency site MRF"
   ]
  },
  {
   "cell_type": "code",
   "execution_count": 24,
   "metadata": {},
   "outputs": [
    {
     "data": {
      "text/plain": [
       "5305.141835425384"
      ]
     },
     "execution_count": 24,
     "metadata": {},
     "output_type": "execute_result"
    }
   ],
   "source": [
    "#hitung mean load_weight\n",
    "df_MRF['load_weight'].mean()"
   ]
  },
  {
   "cell_type": "code",
   "execution_count": 25,
   "metadata": {},
   "outputs": [
    {
     "data": {
      "text/plain": [
       "4260.0"
      ]
     },
     "execution_count": 25,
     "metadata": {},
     "output_type": "execute_result"
    }
   ],
   "source": [
    "#hitung median load_weight\n",
    "df_MRF['load_weight'].median()"
   ]
  },
  {
   "cell_type": "code",
   "execution_count": 26,
   "metadata": {},
   "outputs": [
    {
     "data": {
      "text/plain": [
       "0    3460.0\n",
       "Name: load_weight, dtype: float64"
      ]
     },
     "execution_count": 26,
     "metadata": {},
     "output_type": "execute_result"
    }
   ],
   "source": [
    "#hitung mode load_weight\n",
    "df_MRF['load_weight'].mode()"
   ]
  },
  {
   "cell_type": "code",
   "execution_count": 27,
   "metadata": {},
   "outputs": [
    {
     "data": {
      "text/plain": [
       "27320.0"
      ]
     },
     "execution_count": 27,
     "metadata": {},
     "output_type": "execute_result"
    }
   ],
   "source": [
    "#hitung max load_weight\n",
    "df_MRF['load_weight'].max()"
   ]
  },
  {
   "cell_type": "markdown",
   "metadata": {},
   "source": [
    "#### Outlier Handling Load Weight"
   ]
  },
  {
   "cell_type": "markdown",
   "metadata": {},
   "source": [
    "cek skewness untuk mengetahui outlier handling\n"
   ]
  },
  {
   "cell_type": "code",
   "execution_count": 28,
   "metadata": {},
   "outputs": [
    {
     "data": {
      "text/plain": [
       "1.0010205810425368"
      ]
     },
     "execution_count": 28,
     "metadata": {},
     "output_type": "execute_result"
    }
   ],
   "source": [
    "#tampilkan skewness value\n",
    "df_MRF['load_weight'].skew()"
   ]
  },
  {
   "cell_type": "code",
   "execution_count": 29,
   "metadata": {},
   "outputs": [
    {
     "data": {
      "image/png": "[encoded data removed]",
      "text/plain": [
       "<Figure size 1440x432 with 2 Axes>"
      ]
     },
     "metadata": {
      "needs_background": "light"
     },
     "output_type": "display_data"
    }
   ],
   "source": [
    "#tampilkan histogram plot dan boxplot \n",
    "plt.figure(figsize=(20, 6))\n",
    "plt.subplot(1, 2, 1)\n",
    "sns.histplot(x=df_MRF.load_weight, data=df_MRF, bins=50, kde=True)\n",
    "plt.axvline(df_MRF.load_weight.mean(), color='red', linestyle='dashed', linewidth=2, label='Mean')\n",
    "plt.axvline(df_MRF.load_weight.median(), color='green', linestyle='dashed', linewidth=2, label='Median')\n",
    "plt.title('Load Weight MRF setelah dihapus Outlier')\n",
    "plt.xlabel('Load')\n",
    "plt.ylabel('Frequency')\n",
    "plt.legend()\n",
    "plt.subplot(1, 2, 2)\n",
    "sns.boxplot(x=df_MRF.load_weight, data=df_MRF)\n",
    "plt.title('Load Weight MRF setelah dihapus Outlier')\n",
    "plt.xlabel('Load')\n",
    "plt.ylabel('Frequency')\n",
    "plt.show()"
   ]
  },
  {
   "cell_type": "markdown",
   "metadata": {},
   "source": [
    "dapat disimpulkan dari grafik diatas bahwa \n",
    "\n",
    "* `load_weight` : right-skewed (positively skewed)\n",
    "\n",
    "maka akan dilakukan outlier handling menggunakan IQR."
   ]
  },
  {
   "cell_type": "code",
   "execution_count": 30,
   "metadata": {},
   "outputs": [],
   "source": [
    "#hitung IQR, lowerbound, dan upperbound\n",
    "IQR = df_MRF.load_weight.quantile(0.75) - df_MRF.load_weight.quantile(0.25)\n",
    "lower_bound = df_MRF.load_weight.quantile(0.25) - (IQR * 1.5)\n",
    "upper_bound = df_MRF.load_weight.quantile(0.75) + (IQR * 1.5)"
   ]
  },
  {
   "cell_type": "code",
   "execution_count": 31,
   "metadata": {},
   "outputs": [
    {
     "data": {
      "text/html": [
       "<div>\n",
       "<style scoped>\n",
       "    .dataframe tbody tr th:only-of-type {\n",
       "        vertical-align: middle;\n",
       "    }\n",
       "\n",
       "    .dataframe tbody tr th {\n",
       "        vertical-align: top;\n",
       "    }\n",
       "\n",
       "    .dataframe thead th {\n",
       "        text-align: right;\n",
       "    }\n",
       "</style>\n",
       "<table border=\"1\" class=\"dataframe\">\n",
       "  <thead>\n",
       "    <tr style=\"text-align: right;\">\n",
       "      <th></th>\n",
       "      <th>load_time</th>\n",
       "      <th>load_type</th>\n",
       "      <th>load_weight</th>\n",
       "      <th>dropoff_site</th>\n",
       "    </tr>\n",
       "  </thead>\n",
       "  <tbody>\n",
       "    <tr>\n",
       "      <th>86</th>\n",
       "      <td>2010-09-24 11:20:00+00:00</td>\n",
       "      <td>RECYCLING - SINGLE STREAM</td>\n",
       "      <td>13980.0</td>\n",
       "      <td>MRF</td>\n",
       "    </tr>\n",
       "    <tr>\n",
       "      <th>144</th>\n",
       "      <td>2010-12-17 01:23:00+00:00</td>\n",
       "      <td>RECYCLING - SINGLE STREAM</td>\n",
       "      <td>19360.0</td>\n",
       "      <td>MRF</td>\n",
       "    </tr>\n",
       "    <tr>\n",
       "      <th>243</th>\n",
       "      <td>2011-01-28 01:38:00+00:00</td>\n",
       "      <td>RECYCLING - SINGLE STREAM</td>\n",
       "      <td>15160.0</td>\n",
       "      <td>MRF</td>\n",
       "    </tr>\n",
       "    <tr>\n",
       "      <th>338</th>\n",
       "      <td>2010-08-27 01:31:00+00:00</td>\n",
       "      <td>RECYCLING - SINGLE STREAM</td>\n",
       "      <td>15220.0</td>\n",
       "      <td>MRF</td>\n",
       "    </tr>\n",
       "    <tr>\n",
       "      <th>572</th>\n",
       "      <td>2010-04-09 12:21:00+00:00</td>\n",
       "      <td>RECYCLING - SINGLE STREAM</td>\n",
       "      <td>14580.0</td>\n",
       "      <td>MRF</td>\n",
       "    </tr>\n",
       "    <tr>\n",
       "      <th>...</th>\n",
       "      <td>...</td>\n",
       "      <td>...</td>\n",
       "      <td>...</td>\n",
       "      <td>...</td>\n",
       "    </tr>\n",
       "    <tr>\n",
       "      <th>89597</th>\n",
       "      <td>2006-01-10 09:14:00+00:00</td>\n",
       "      <td>RECYCLED METAL</td>\n",
       "      <td>25100.0</td>\n",
       "      <td>MRF</td>\n",
       "    </tr>\n",
       "    <tr>\n",
       "      <th>89600</th>\n",
       "      <td>2006-01-10 12:00:00+00:00</td>\n",
       "      <td>RECYCLED METAL</td>\n",
       "      <td>20700.0</td>\n",
       "      <td>MRF</td>\n",
       "    </tr>\n",
       "    <tr>\n",
       "      <th>89606</th>\n",
       "      <td>2006-01-11 02:34:00+00:00</td>\n",
       "      <td>RECYCLED METAL</td>\n",
       "      <td>24680.0</td>\n",
       "      <td>MRF</td>\n",
       "    </tr>\n",
       "    <tr>\n",
       "      <th>89608</th>\n",
       "      <td>2006-01-10 02:30:00+00:00</td>\n",
       "      <td>RECYCLED METAL</td>\n",
       "      <td>26860.0</td>\n",
       "      <td>MRF</td>\n",
       "    </tr>\n",
       "    <tr>\n",
       "      <th>89618</th>\n",
       "      <td>2006-01-10 09:00:00+00:00</td>\n",
       "      <td>RECYCLED METAL</td>\n",
       "      <td>24340.0</td>\n",
       "      <td>MRF</td>\n",
       "    </tr>\n",
       "  </tbody>\n",
       "</table>\n",
       "<p>3471 rows × 4 columns</p>\n",
       "</div>"
      ],
      "text/plain": [
       "                      load_time                  load_type  load_weight  \\\n",
       "86    2010-09-24 11:20:00+00:00  RECYCLING - SINGLE STREAM      13980.0   \n",
       "144   2010-12-17 01:23:00+00:00  RECYCLING - SINGLE STREAM      19360.0   \n",
       "243   2011-01-28 01:38:00+00:00  RECYCLING - SINGLE STREAM      15160.0   \n",
       "338   2010-08-27 01:31:00+00:00  RECYCLING - SINGLE STREAM      15220.0   \n",
       "572   2010-04-09 12:21:00+00:00  RECYCLING - SINGLE STREAM      14580.0   \n",
       "...                         ...                        ...          ...   \n",
       "89597 2006-01-10 09:14:00+00:00             RECYCLED METAL      25100.0   \n",
       "89600 2006-01-10 12:00:00+00:00             RECYCLED METAL      20700.0   \n",
       "89606 2006-01-11 02:34:00+00:00             RECYCLED METAL      24680.0   \n",
       "89608 2006-01-10 02:30:00+00:00             RECYCLED METAL      26860.0   \n",
       "89618 2006-01-10 09:00:00+00:00             RECYCLED METAL      24340.0   \n",
       "\n",
       "      dropoff_site  \n",
       "86             MRF  \n",
       "144            MRF  \n",
       "243            MRF  \n",
       "338            MRF  \n",
       "572            MRF  \n",
       "...            ...  \n",
       "89597          MRF  \n",
       "89600          MRF  \n",
       "89606          MRF  \n",
       "89608          MRF  \n",
       "89618          MRF  \n",
       "\n",
       "[3471 rows x 4 columns]"
      ]
     },
     "execution_count": 31,
     "metadata": {},
     "output_type": "execute_result"
    }
   ],
   "source": [
    "#tampilkan outlier MRF\n",
    "df_MRF[(df_MRF.load_weight < lower_bound) | (df_MRF.load_weight > upper_bound)]\n"
   ]
  },
  {
   "cell_type": "code",
   "execution_count": 32,
   "metadata": {},
   "outputs": [
    {
     "name": "stdout",
     "output_type": "stream",
     "text": [
      "Jumlah outlier MRF : 3471\n"
     ]
    }
   ],
   "source": [
    "#print jumlah outlier MRF\n",
    "print(f'Jumlah outlier MRF : {len(df_MRF[(df_MRF.load_weight < lower_bound) | (df_MRF.load_weight > upper_bound)])}')\n"
   ]
  },
  {
   "cell_type": "markdown",
   "metadata": {},
   "source": [
    "Tentukan berapa persen jumlah outlier "
   ]
  },
  {
   "cell_type": "markdown",
   "metadata": {},
   "source": [
    "jumlah outlier   :3471 \n",
    "\n",
    "jumlah data MRF  :89625"
   ]
  },
  {
   "cell_type": "code",
   "execution_count": 33,
   "metadata": {},
   "outputs": [
    {
     "data": {
      "text/plain": [
       "3.8728033472803345"
      ]
     },
     "execution_count": 33,
     "metadata": {},
     "output_type": "execute_result"
    }
   ],
   "source": [
    "#outlier / data mrf\n",
    "3471/89625*100"
   ]
  },
  {
   "cell_type": "markdown",
   "metadata": {},
   "source": [
    "Dapat disimpulkan bahwa Jumlah outlier hanya 3,87% dari jumlah data MRF"
   ]
  },
  {
   "cell_type": "markdown",
   "metadata": {},
   "source": [
    "Menghilangkan outlier dari data frame"
   ]
  },
  {
   "cell_type": "markdown",
   "metadata": {},
   "source": [
    "Langkah 4 Buat Data Frame baru MRF_no_outlier untuk memisahkan antara dataset mrf dengan outlier dan MRF tanpa outlier"
   ]
  },
  {
   "cell_type": "code",
   "execution_count": 34,
   "metadata": {},
   "outputs": [],
   "source": [
    "#Buat Data Frame baru MRF_no_outlier untuk memisahkan antara dataset mrf dengan outlier dan MRF tanpa outlier\n",
    "df_MRF_no_outlier = df_MRF[(df_MRF.load_weight > lower_bound) & (df_MRF.load_weight < upper_bound)]\n"
   ]
  },
  {
   "cell_type": "markdown",
   "metadata": {},
   "source": [
    "Hitung Central Tendency MRF No outlier"
   ]
  },
  {
   "cell_type": "code",
   "execution_count": 35,
   "metadata": {},
   "outputs": [
    {
     "data": {
      "text/plain": [
       "4941.771792371799"
      ]
     },
     "execution_count": 35,
     "metadata": {},
     "output_type": "execute_result"
    }
   ],
   "source": [
    "#hitung median load_weight\n",
    "df_MRF_no_outlier['load_weight'].mean()"
   ]
  },
  {
   "cell_type": "code",
   "execution_count": 36,
   "metadata": {},
   "outputs": [
    {
     "data": {
      "text/plain": [
       "4140.0"
      ]
     },
     "execution_count": 36,
     "metadata": {},
     "output_type": "execute_result"
    }
   ],
   "source": [
    "#hitung median load_weight\n",
    "df_MRF_no_outlier['load_weight'].median()"
   ]
  },
  {
   "cell_type": "code",
   "execution_count": 37,
   "metadata": {},
   "outputs": [
    {
     "data": {
      "text/plain": [
       "0    3460.0\n",
       "Name: load_weight, dtype: float64"
      ]
     },
     "execution_count": 37,
     "metadata": {},
     "output_type": "execute_result"
    }
   ],
   "source": [
    "#hitung median load_weight\n",
    "df_MRF_no_outlier['load_weight'].mode()"
   ]
  },
  {
   "cell_type": "code",
   "execution_count": 38,
   "metadata": {},
   "outputs": [
    {
     "data": {
      "text/plain": [
       "13320.0"
      ]
     },
     "execution_count": 38,
     "metadata": {},
     "output_type": "execute_result"
    }
   ],
   "source": [
    "#hitung max load_weight\n",
    "df_MRF_no_outlier['load_weight'].max()"
   ]
  },
  {
   "cell_type": "markdown",
   "metadata": {},
   "source": [
    "Bandingkan Central Tendency MRF with outlier dengan MRF no outlier"
   ]
  },
  {
   "cell_type": "code",
   "execution_count": 39,
   "metadata": {},
   "outputs": [
    {
     "data": {
      "text/plain": [
       "0    True\n",
       "Name: load_weight, dtype: bool"
      ]
     },
     "execution_count": 39,
     "metadata": {},
     "output_type": "execute_result"
    }
   ],
   "source": [
    "# membandingkan modus MRF outlier dengan MRF_no_outlier\n",
    "df_MRF['load_weight'].mode() == df_MRF_no_outlier['load_weight'].mode() "
   ]
  },
  {
   "cell_type": "markdown",
   "metadata": {},
   "source": [
    "karena value sama tidak perlu melakukan selisih data"
   ]
  },
  {
   "cell_type": "code",
   "execution_count": 40,
   "metadata": {},
   "outputs": [
    {
     "data": {
      "text/plain": [
       "False"
      ]
     },
     "execution_count": 40,
     "metadata": {},
     "output_type": "execute_result"
    }
   ],
   "source": [
    "# membandingkan median MRF outlier dengan MRF_no_outlier\n",
    "df_MRF_no_outlier['load_weight'].median() == df_MRF['load_weight'].median()"
   ]
  },
  {
   "cell_type": "markdown",
   "metadata": {},
   "source": [
    "karena value tidak sama hitung selisih data median"
   ]
  },
  {
   "cell_type": "code",
   "execution_count": 41,
   "metadata": {},
   "outputs": [
    {
     "data": {
      "text/plain": [
       "120.0"
      ]
     },
     "execution_count": 41,
     "metadata": {},
     "output_type": "execute_result"
    }
   ],
   "source": [
    "#selisih data median\n",
    "df_MRF['load_weight'].median() - df_MRF_no_outlier['load_weight'].median()  "
   ]
  },
  {
   "cell_type": "code",
   "execution_count": 42,
   "metadata": {},
   "outputs": [
    {
     "data": {
      "text/plain": [
       "False"
      ]
     },
     "execution_count": 42,
     "metadata": {},
     "output_type": "execute_result"
    }
   ],
   "source": [
    "# membandingkan mean MRF outlier dengan MRF_no_outlier\n",
    "df_MRF['load_weight'].mean() == df_MRF_no_outlier['load_weight'].mean()"
   ]
  },
  {
   "cell_type": "markdown",
   "metadata": {},
   "source": [
    "karena value tidak sama hitung selisih data mean"
   ]
  },
  {
   "cell_type": "code",
   "execution_count": 43,
   "metadata": {},
   "outputs": [
    {
     "data": {
      "text/plain": [
       "363.3700430535846"
      ]
     },
     "execution_count": 43,
     "metadata": {},
     "output_type": "execute_result"
    }
   ],
   "source": [
    "# selisih data mean\n",
    "df_MRF['load_weight'].mean() - df_MRF_no_outlier['load_weight'].mean()"
   ]
  },
  {
   "cell_type": "markdown",
   "metadata": {},
   "source": [
    "Insight yang didapat adalah \n",
    "\n",
    "Selisih data modus antara MRF outlier dengan MRF_no_outlier adalah 0\n",
    "\n",
    "Selisih data median antara MRF outlier dengan MRF_no_outlier adalah 120\n",
    "\n",
    "Selisih data mean antara MRF outlier dengan MRF_no_outlier adalah 363.37\n",
    "\n",
    "Kesimpulan yang didapat adalah MRF tanpa outlier dapat meringankan rata-rata load weight \n",
    "\n",
    "karena data outlier terberat adalah 27320.0 sedangkan data tanpa outlier terberat adalah 13320.0 \n",
    "\n",
    "sehingga ketika data outlier dihilangkan akan lebih ringan"
   ]
  },
  {
   "cell_type": "markdown",
   "metadata": {},
   "source": [
    "##### 6. Gunakan site yang telah kamu pilih untuk dihitung range, variance, dan standar deviasi untuk data load_weight. Berikan insight dari hasil perhitunganmu kepada pemerintah kota (Pastikan data yang digunakan adalah data yang sudah dibersihkan dari outlier)."
   ]
  },
  {
   "cell_type": "code",
   "execution_count": 44,
   "metadata": {},
   "outputs": [
    {
     "data": {
      "text/plain": [
       "13320.0"
      ]
     },
     "execution_count": 44,
     "metadata": {},
     "output_type": "execute_result"
    }
   ],
   "source": [
    "# mengitung range adalah data terbesar dikurang data terkecil\n",
    "df_MRF_no_outlier['load_weight'].max() - df_MRF_no_outlier['load_weight'].min()"
   ]
  },
  {
   "cell_type": "code",
   "execution_count": 45,
   "metadata": {},
   "outputs": [
    {
     "data": {
      "text/plain": [
       "10596379.846391998"
      ]
     },
     "execution_count": 45,
     "metadata": {},
     "output_type": "execute_result"
    }
   ],
   "source": [
    "# mengitung variance\n",
    "df_MRF_no_outlier['load_weight'].var()"
   ]
  },
  {
   "cell_type": "code",
   "execution_count": 46,
   "metadata": {},
   "outputs": [
    {
     "data": {
      "text/plain": [
       "3255.20811107247"
      ]
     },
     "execution_count": 46,
     "metadata": {},
     "output_type": "execute_result"
    }
   ],
   "source": [
    "# mengitung standar deviasi\n",
    "df_MRF_no_outlier['load_weight'].std()"
   ]
  },
  {
   "cell_type": "markdown",
   "metadata": {},
   "source": [
    "insight yang didapat adalah \n",
    "\n",
    "range yang didapat adalah 13320.0\n",
    "\n",
    "variance yang didapat adalah 10596379.84\n",
    "\n",
    "standar deviasi yang didapat adalah 3255.20\n"
   ]
  },
  {
   "cell_type": "markdown",
   "metadata": {},
   "source": [
    "##### 7. Pemerintah kota berencana menambah site baru. Berikan analisa dan saran terkait berapa kapasitas penampungan di site baru berdasarkan perhitungan confidence interval. Data apa yang kamu gunakan, apakah hanya dari satu site saja atau dari keseluruhan site?"
   ]
  },
  {
   "cell_type": "markdown",
   "metadata": {},
   "source": [
    "Data yang akan saya gunakan adalah site MRF (satu site saja) alasan saya menggunakan satu site saja karena site MRF sudah merupakan representasi dari keseluruhan data \n",
    "\n",
    "data MRF sebanyak 89625 dari total 150000 yaitu sudah mencakup 59,75% total data"
   ]
  },
  {
   "cell_type": "code",
   "execution_count": 47,
   "metadata": {},
   "outputs": [
    {
     "data": {
      "text/plain": [
       "(-1897.203737308695, 12507.487408159463)"
      ]
     },
     "execution_count": 47,
     "metadata": {},
     "output_type": "execute_result"
    }
   ],
   "source": [
    "#menghitung confidence_interval\n",
    "ci = stats.norm.interval(0.95, df_MRF['load_weight'].mean(), df_MRF['load_weight'].std())\n",
    "ci"
   ]
  },
  {
   "cell_type": "markdown",
   "metadata": {},
   "source": [
    "bedasarkan data di atas jika Pemerintah kota berencana menambah site baru, saya sarankan pengolahan limbah maksimal dapat menampung beban muatan(load weight) sebesar 12507.487 untuk mengantisipasi lonjakan beban muatan disuatu hari nanti"
   ]
  },
  {
   "cell_type": "markdown",
   "metadata": {},
   "source": [
    "##### 8. Buatlah analisa uji hipotesis dari data tersebut dari data yang tersedia (kasusnya dibebaskan). Definisikan H0 dan H1 nya serta lakukan perhitungan menggunakan t-test yang sesuai dengan hipotesis kamu. Tulis kesimpulan dari hasil perhitunganmu kepada pemerintah kota (Ingat! pemerintah kota tidak mengerti p-value, hipotesis diterima/tidak diterima)."
   ]
  },
  {
   "cell_type": "markdown",
   "metadata": {},
   "source": [
    "##### Two Samples Independent Two Tailed Hypothesis "
   ]
  },
  {
   "cell_type": "markdown",
   "metadata": {},
   "source": [
    "Hipotesis: **Dari rata-rata MRF with outlier dengan MRF no outlier. Pemerintah kota ingin mencari tahu apakah perbedaan rata-rata tersebut signifikan atau tidak?**\n",
    "\n",
    "Jadi:\n",
    "- **H0: μ MRF with outlier  = μ MRF_no_outlier** (Perbedaan rata-rata MRF with outlier dengan MRF no outlier tidak signifikan)\n",
    "- **H1: μ MRF with outlier  != μ MRF_no_outlier** (Perbedaan rata-rata MRF with outlier dengan MRF no outlier signifikan)\n",
    "\n"
   ]
  },
  {
   "cell_type": "code",
   "execution_count": 48,
   "metadata": {},
   "outputs": [
    {
     "name": "stdout",
     "output_type": "stream",
     "text": [
      "P-value: 2.696417033384672e-106\n",
      "T-stat: 21.9132770937185\n"
     ]
    }
   ],
   "source": [
    "# hitung t_Stat dan p_Value\n",
    "t_stat, p_val = stats.ttest_ind(df_MRF['load_weight'],df_MRF_no_outlier['load_weight'])\n",
    "print(f'P-value: {p_val}')\n",
    "print(f'T-stat: {t_stat}')"
   ]
  },
  {
   "cell_type": "code",
   "execution_count": 49,
   "metadata": {},
   "outputs": [
    {
     "name": "stdout",
     "output_type": "stream",
     "text": [
      "Menolak Null Hypothesis (H0), menerima Alternative Hypothesis (H1).\n"
     ]
    }
   ],
   "source": [
    "# buat kondisi apabila p value <= 0.05\n",
    "if p_val <= 0.05:\n",
    "    print(\"Menolak Null Hypothesis (H0), menerima Alternative Hypothesis (H1).\")\n",
    "elif p_val > 0.05:\n",
    "    print(\"Menerima Null Hypothesis (H0), menolak Alternative Hypothesis (H1).\")"
   ]
  },
  {
   "cell_type": "markdown",
   "metadata": {},
   "source": [
    "Kesimpulan yang bisa saya simpulkan untuk pemerintah kota adalah dari hipotesis testing diatas adalah perbedaan rata-rata MRF with outlier dengan MRF no outlier signifikan\n",
    "\n",
    "diperkuat dengan selisih data mean antara MRF outlier dengan MRF_no_outlier adalah 363.37\n",
    "\n"
   ]
  },
  {
   "cell_type": "markdown",
   "metadata": {},
   "source": [
    "##### 9. Tarik benang merah dan kesimpulan dari perhitungan dan analisa yang kamu telah lakukan di langkah-langkah sebelumnya. Ceritakan kesimpulanmu kepada pemerintah kota dan hindari bahasa teknis yang tidak dimengerti oleh orang yang bukan data scientist!"
   ]
  },
  {
   "cell_type": "markdown",
   "metadata": {},
   "source": [
    "Kesimpulan dari perhitungan analisa yang telah saya lakukan \n",
    "\n",
    "- Site yang paling menarik adalah MRF karena mencakup 59,75% data, memiliki load weight teringan sebesar 5305.141 dan memiliki load type terbanyak, dari total 18 load type ada 14 load type yang dapat ditampung di dropoff site MRF \n",
    "\n",
    "- Selisih data mean antara MRF outlier dengan MRF_no_outlier adalah 363.37\n",
    "\n",
    "- Kesimpulan yang didapat adalah MRF tanpa outlier dapat meringankan rata-rata load weight karena data outlier terberat adalah 27320.0 sedangkan data tanpa outlier terberat adalah 13320.0 \n",
    "sehingga ketika data outlier dihilangkan akan lebih ringan\n",
    "\n",
    "- Bedasarkan Confindence Interval jika Pemerintah kota berencana menambah site baru, saya sarankan pengolahan limbah maksimal dapat menampung beban muatan(load weight) sebesar 12507.487 untuk mengantisipasi lonjakan beban muatan disuatu hari nanti\n",
    "\n",
    "- Kesimpulan yang bisa saya simpulkan untuk pemerintah kota adalah dari hipotesis testing diatas adalah perbedaan rata-rata MRF with outlier dengan MRF no outlier signifikan\n"
   ]
  },
  {
   "cell_type": "markdown",
   "metadata": {},
   "source": [
    "### Jawab pertanyaan berikut untuk mengasah pemahaman konsepmu!\n",
    "\n",
    "**1. Apa perbedaan statistik deskriptif dan inferensial?**\n",
    "\n",
    "Perbedaan Statistik Deskriptif dan Inferensial\n",
    "\n",
    "1) Statistik Deskriptif adalah statistik yang tingkat pekerjaannya mencakup cara-cara menghimpun,\n",
    "menyusun atau mengatur, mengolah, menyajikan dan menganalisis data angka, agar dapat memberikan\n",
    "gambaran yang teratur, ringkas dan jelas mengenai\n",
    "suatu gejala, peristiwa atau keadaan. \n",
    "\n",
    "\n",
    "![deskriptif](https://i.ibb.co/52GXQHL/deskrip.jpg)\n",
    "\n",
    "2) Statistik Inferensial terkait dengan penarikan kesimpulan atau pendugaan populasi dari sampel melalui pengujian hipotesis dan pengujian statistik dengan memanfaatkan informasi dari sampel yang dihasilkan dari Statistik Deskriptif\n",
    "\n",
    "![inferensial](https://i.ibb.co/G0JFNHg/infer.jpg)\n"
   ]
  },
  {
   "cell_type": "markdown",
   "metadata": {},
   "source": [
    "**2. Metrik pada central tendency apa yang tepat digunakan untuk menyimpulkan data yang terdistribusi normal dan tidak? Apakah sama atau berbeda?**\n",
    "\n",
    "metrik yang tepat digunakan untuk menyimpulkan data yang terdistribusi normal adalah semuanya karena syarat normal distribusi adalah median = modus = mean\n",
    "\n",
    "sedangkan yang tidak terdistribusi normal memiliki skewness atau kemiringan \n",
    "\n",
    "Apakah sama atau berbeda?\n",
    "\n",
    "Distribusi normal menggunakan perhitungan \n",
    "\n",
    "Outliers=mean+/-3*std.\n",
    "\n",
    "Sedangkan skewness menggunakan perhitungan \n",
    "\n",
    "IQR = Q3 - Q1 \n",
    "\n",
    "lower = Q1 - (IQR * 1.5)\n",
    "\n",
    "upper = Q3 + (IQR * 1.5)"
   ]
  },
  {
   "cell_type": "markdown",
   "metadata": {},
   "source": [
    "\n",
    "**3. Teknik apa yang kamu pilih untuk handling outlier? jelaskan alasannya!**\n",
    "\n",
    "Teknik yang saya pakai adalah teknik Tukey's rule atau IQR karena bedasarkan data \n",
    "\n",
    "variabel terdistribusi miring (positively skew) maka teknik yang paling cocok adalah menggunakan teknik Tukey's rule atau IQR\n",
    "\n",
    "\n"
   ]
  },
  {
   "cell_type": "markdown",
   "metadata": {},
   "source": [
    "**4. Apa konsep dibalik central tendency sehingga kita dapat menggunakannya untuk menyelesaikan langkah pada nomor 7?**\n",
    "\n",
    "central tendency yang dipakai oleh Convidence interval adalah mean\n",
    "\n",
    "Convidence Interval adalah salah satu parameter lain untuk mengukur seberapa akurat Mean sebuah sample mewakili (mencakup) nilai Mean Populasi sesungguhnya.\n",
    "\n",
    "oleh karena itu saya menggunakan sample site MRF untuk menghitung Convidence interval dan mendapatkan hasil 12507.487\n",
    "\n"
   ]
  },
  {
   "cell_type": "markdown",
   "metadata": {},
   "source": [
    "**5. Jelaskan jenis uji hipotesis apa yang kamu terapkan dan mengapa?**"
   ]
  },
  {
   "cell_type": "markdown",
   "metadata": {},
   "source": [
    "jenis uji hipotesis yang saya terapkan adalah Two Samples Independent Two Tailed Hypothesis \n",
    "\n",
    "alasan saya menggunakan Two Samples Independent Two Tailed Hypothesis adalah \n",
    "\n",
    "karena saya ingin berhipotesis apakah perbedaan rata-rata dua populasi yaitu MRF with outlier dengan MRF no outlier signifikan secara statistik\n",
    "\n",
    "dan hasil yang didapat adalah signifikan\n",
    "\n"
   ]
  }
 ],
 "metadata": {
  "kernelspec": {
   "display_name": "Python 3.10.5 64-bit",
   "language": "python",
   "name": "python3"
  },
  "language_info": {
   "codemirror_mode": {
    "name": "ipython",
    "version": 3
   },
   "file_extension": ".py",
   "mimetype": "text/x-python",
   "name": "python",
   "nbconvert_exporter": "python",
   "pygments_lexer": "ipython3",
   "version": "3.10.5"
  },
  "orig_nbformat": 4,
  "vscode": {
   "interpreter": {
    "hash": "aa24d1753723fb44936862a0479a9c898341c4bbf00849cc75b84e50be8d531a"
   }
  }
 },
 "nbformat": 4,
 "nbformat_minor": 2
}
