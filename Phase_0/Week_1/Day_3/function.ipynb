{
 "cells": [
  {
   "cell_type": "code",
   "execution_count": null,
   "metadata": {},
   "outputs": [],
   "source": [
    "def nama_function (parameter):\n",
    "\n",
    "    return\n",
    "    print()"
   ]
  },
  {
   "cell_type": "code",
   "execution_count": 5,
   "metadata": {},
   "outputs": [],
   "source": [
    "def cetak (nama):\n",
    "    print(f'saya adalah {nama}')"
   ]
  },
  {
   "cell_type": "code",
   "execution_count": 6,
   "metadata": {},
   "outputs": [
    {
     "name": "stdout",
     "output_type": "stream",
     "text": [
      "saya adalah xyla\n"
     ]
    }
   ],
   "source": [
    "cetak('xyla')"
   ]
  },
  {
   "cell_type": "code",
   "execution_count": 7,
   "metadata": {},
   "outputs": [],
   "source": [
    "def berhitung (x,y):\n",
    "    tambah = x+y  \n",
    "    kurang = x-y   \n",
    "    bagi   = x/y   \n",
    "    kali   = x*y\n",
    "    return tambah, kurang, bagi , kali "
   ]
  },
  {
   "cell_type": "code",
   "execution_count": 9,
   "metadata": {},
   "outputs": [
    {
     "name": "stdout",
     "output_type": "stream",
     "text": [
      "15\n",
      "5\n",
      "2.0\n",
      "50\n"
     ]
    }
   ],
   "source": [
    "a,b,c,d = berhitung(10,5)\n",
    "print(a)\n",
    "print(b)\n",
    "print(c)\n",
    "print(d)"
   ]
  },
  {
   "cell_type": "code",
   "execution_count": 33,
   "metadata": {},
   "outputs": [
    {
     "name": "stdout",
     "output_type": "stream",
     "text": [
      "14 genap\n",
      "0\n"
     ]
    }
   ],
   "source": [
    "def modulus(number):\n",
    "    if number % 2 == 0:\n",
    "        print(f'{number} genap')\n",
    "    else:\n",
    "        print(f'{number} ganjil')\n",
    "    return 0\n",
    "\n",
    "a = int(input('Masukkan Angka : '))\n",
    "print(modulus(a))\n",
    "\n"
   ]
  },
  {
   "cell_type": "code",
   "execution_count": 24,
   "metadata": {},
   "outputs": [
    {
     "name": "stdout",
     "output_type": "stream",
     "text": [
      "True\n",
      "hacktiv\n"
     ]
    }
   ],
   "source": [
    "def deteksi(x):\n",
    "    if x == (\"hacktiv\"):\n",
    "        print(f'True')\n",
    "    else:\n",
    "        print(f'False')\n",
    "    return \n",
    "\n",
    "a = input('Masukkan kata : ')\n",
    "print(deteksi(a))"
   ]
  },
  {
   "cell_type": "code",
   "execution_count": 60,
   "metadata": {},
   "outputs": [
    {
     "name": "stdout",
     "output_type": "stream",
     "text": [
      "0.014078921277017648\n",
      "Underweight\n",
      "None\n"
     ]
    }
   ],
   "source": [
    "def BMI(x):\n",
    "    \n",
    "    if x >= 0 and x < 18.5:\n",
    "        print(f'Underweight')\n",
    "    elif x >= 18.5 and x < 24.9:\n",
    "        print(f'Normal')\n",
    "    elif x >= 25 and x < 29.9:\n",
    "        print(f'Overweighted')\n",
    "    elif x >= 30:\n",
    "        print(f'Very Oveweight')\n",
    "\n",
    "h = eval(input('Masukkan Height: '))\n",
    "w = eval(input('Masukkan weight: '))\n",
    "hw = w / (h*h)\n",
    "print(hw)\n",
    "print(BMI(hw))"
   ]
  },
  {
   "cell_type": "code",
   "execution_count": 58,
   "metadata": {},
   "outputs": [
    {
     "name": "stdout",
     "output_type": "stream",
     "text": [
      "BMI: 220931.70054286075, Obese\n"
     ]
    }
   ],
   "source": [
    "berat = eval(input(\"Berat badan(kg): \"))\n",
    "tinggi = eval(input(\"Tinggi badan(cm): \"))\n",
    "tinggi = tinggi/100\n",
    "\n",
    "def kalkulator_BMI(berat, tinggi):\n",
    "    BMI = berat / tinggi**2\n",
    "    if BMI < 18.5:\n",
    "        return f\"BMI: {BMI}, Underweight\"\n",
    "    elif 18.5 <= BMI <= 24.9:\n",
    "        return f\"BMI: {BMI}, Normal\"\n",
    "    elif 25.0 <= BMI <= 29.9:\n",
    "        return f\"BMI: {BMI}, Overweight\"\n",
    "    elif BMI >= 30:\n",
    "        return f\"BMI: {BMI}, Obese\"\n",
    "\n",
    "print(kalkulator_BMI(berat, tinggi))\n"
   ]
  },
  {
   "cell_type": "code",
   "execution_count": null,
   "metadata": {},
   "outputs": [],
   "source": []
  }
 ],
 "metadata": {
  "kernelspec": {
   "display_name": "Python 3.9.12 ('base')",
   "language": "python",
   "name": "python3"
  },
  "language_info": {
   "codemirror_mode": {
    "name": "ipython",
    "version": 3
   },
   "file_extension": ".py",
   "mimetype": "text/x-python",
   "name": "python",
   "nbconvert_exporter": "python",
   "pygments_lexer": "ipython3",
   "version": "3.9.12"
  },
  "orig_nbformat": 4,
  "vscode": {
   "interpreter": {
    "hash": "6d54a62e041cb490de51dae444c229fb2b7bbb8f393d3c8a649e18023d500dba"
   }
  }
 },
 "nbformat": 4,
 "nbformat_minor": 2
}
