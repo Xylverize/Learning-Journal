{
  "cells": [
    {
      "cell_type": "markdown",
      "metadata": {
        "id": "u7fb2b_bcmLR"
      },
      "source": [
        "## Latihan Numpy \n"
      ]
    },
    {
      "cell_type": "code",
      "execution_count": 1,
      "metadata": {
        "id": "trMq9Uk5cmLV"
      },
      "outputs": [],
      "source": [
        "#Import Library\n",
        "import numpy as np"
      ]
    },
    {
      "cell_type": "code",
      "execution_count": 9,
      "metadata": {
        "id": "SmvDl-10cmLW"
      },
      "outputs": [
        {
          "name": "stdout",
          "output_type": "stream",
          "text": [
            "<class 'list'>\n",
            "[1 2 3 4 5]\n",
            "<class 'numpy.ndarray'>\n",
            "[ 1  2  3  4  5  6  7  8  9 10 11 12 13 14 15 16 17 18 19]\n",
            "<class 'numpy.ndarray'>\n"
          ]
        }
      ],
      "source": [
        "# Perubahan dari List ke Array\n",
        "# np.array()\n",
        "a = [1,2,3,4,5]\n",
        "a\n",
        "print(type(a))\n",
        "\n",
        "b = np.array(a)\n",
        "print(b) \n",
        "print(type(b))\n",
        "\n",
        "#Membuat array menggunakan np.arange\n",
        "c = np.arange(1,20)\n",
        "print(c)\n",
        "print(type(c))"
      ]
    },
    {
      "cell_type": "code",
      "execution_count": 14,
      "metadata": {
        "id": "83zSuu09cmLX"
      },
      "outputs": [
        {
          "name": "stdout",
          "output_type": "stream",
          "text": [
            "[[1 2 3]\n",
            " [4 5 6]]\n",
            "2\n"
          ]
        }
      ],
      "source": [
        "# Membuat Array 2D\n",
        "# Lihat seberapa banyak kurung siku di awal untuk menentukan jumlah dimensi atau .ndim\n",
        "d = [\n",
        "     [1,2,3],\n",
        "     [4,5,6]\n",
        "]\n",
        "d = np.array(d)\n",
        "print(d)\n",
        "print(d.ndim)\n",
        "\n"
      ]
    },
    {
      "cell_type": "code",
      "execution_count": 13,
      "metadata": {},
      "outputs": [
        {
          "name": "stdout",
          "output_type": "stream",
          "text": [
            "[[[2 3 4 5]\n",
            "  [1 2 3 4]\n",
            "  [3 4 5 6]]\n",
            "\n",
            " [[2 3 4 5]\n",
            "  [1 3 4 5]\n",
            "  [3 4 5 6]]]\n",
            "3\n"
          ]
        }
      ],
      "source": [
        "#Membuat array N-Dimensi\n",
        "\n",
        "e = [\n",
        "     [\n",
        "      [2,3,4,5],\n",
        "     [1,2,3,4],\n",
        "     [3,4,5,6]\n",
        "      ],\n",
        "     [\n",
        "      [2,3,4,5],\n",
        "      [1,3,4,5],\n",
        "      [3,4,5,6]\n",
        "     ]\n",
        "]\n",
        "e = np.array(e)\n",
        "print(e)\n",
        "print(e.ndim) #berapa dimensi\n"
      ]
    },
    {
      "cell_type": "code",
      "execution_count": 15,
      "metadata": {
        "id": "323Y5JEGcmLX"
      },
      "outputs": [
        {
          "name": "stdout",
          "output_type": "stream",
          "text": [
            "[1 2 3 4 5]\n",
            "[[1 2 3]\n",
            " [4 5 6]]\n",
            "(5,)\n",
            "(2, 3)\n"
          ]
        }
      ],
      "source": [
        "#Menentukan ukuran suatu array\n",
        "#.shape\n",
        "print(b)\n",
        "print(d)\n",
        "print(b.shape)\n",
        "print(d.shape)\n",
        "\n"
      ]
    },
    {
      "cell_type": "code",
      "execution_count": 5,
      "metadata": {
        "id": "CcfStXT0cmLY"
      },
      "outputs": [],
      "source": [
        "#Menentukan jumlah total elemen suatu array\n",
        "#.size\n",
        "print(b.size)\n",
        "print(d.size)\n"
      ]
    },
    {
      "cell_type": "code",
      "execution_count": 16,
      "metadata": {
        "id": "FAM9pgfpcmLY"
      },
      "outputs": [
        {
          "name": "stdout",
          "output_type": "stream",
          "text": [
            "[1 2 3 4 5]\n",
            "[1]\n",
            "[2 4]\n"
          ]
        }
      ],
      "source": [
        "#Indexing & Slicing\n",
        "print(b)\n",
        "print(b[0:1])\n",
        "print(b[1::2])\n",
        "\n",
        "#Mengubah urutan array 1D dari belakang ke depan (Descending)\n",
        "\n"
      ]
    },
    {
      "cell_type": "markdown",
      "metadata": {
        "id": "2gpK6-h1cmLY"
      },
      "source": [
        "**NOMOR 1**\n",
        "\n",
        "Buatlah sebuah array seperti dibawah ini dan tambahkan setiap elemennya dengan `1`.\n",
        "\n",
        "```\n",
        "a = [10, 20, 30, 40, 50]\n",
        "```"
      ]
    },
    {
      "cell_type": "code",
      "execution_count": 5,
      "metadata": {
        "id": "6tPkqOF_cmLZ"
      },
      "outputs": [
        {
          "name": "stdout",
          "output_type": "stream",
          "text": [
            "[11, 21, 31, 41, 51]\n"
          ]
        }
      ],
      "source": [
        "#Cara 1 : Menambahkan dengan bil. skalar\n",
        "\n",
        "a = [10, 20, 30, 40, 50]\n",
        "a+1 \n",
        "a = [i+1 for i in a]\n",
        "print(a)"
      ]
    },
    {
      "cell_type": "code",
      "execution_count": 6,
      "metadata": {
        "id": "6CWP_uutcmLa"
      },
      "outputs": [],
      "source": [
        "# Cara 2 : Menambahkan dengan \"Special Array\"\n",
        "#np.ones()\n"
      ]
    },
    {
      "cell_type": "markdown",
      "metadata": {},
      "source": []
    },
    {
      "cell_type": "markdown",
      "metadata": {
        "id": "2T15lXtucmLa"
      },
      "source": [
        "**NOMOR 2**\n",
        "\n",
        "Buatlah sebuah array seperti dibawah ini dan keluarkan element yang bernilai negatif.\n",
        "\n",
        "```\n",
        "b = [-3, 0, -2, 1, 2, 3, -4]\n",
        "```"
      ]
    },
    {
      "cell_type": "code",
      "execution_count": 20,
      "metadata": {
        "id": "apFuZ2g-cmLa"
      },
      "outputs": [
        {
          "data": {
            "text/plain": [
              "array([-3,  0, -2,  1,  2,  3, -4])"
            ]
          },
          "execution_count": 20,
          "metadata": {},
          "output_type": "execute_result"
        }
      ],
      "source": [
        "#Buat array\n",
        "b = [-3, 0, -2, 1, 2, 3, -4]\n",
        "b = np.array(b)\n",
        "b"
      ]
    },
    {
      "cell_type": "code",
      "execution_count": 21,
      "metadata": {
        "id": "NsTUVNIGcmLa"
      },
      "outputs": [
        {
          "data": {
            "text/plain": [
              "array([ True, False,  True, False, False, False,  True])"
            ]
          },
          "execution_count": 21,
          "metadata": {},
          "output_type": "execute_result"
        }
      ],
      "source": [
        "# Jika `b < 0` maka hanya akan dilakukan pengecekan apakah element di `b` kurang dari 0 atau tidak\n",
        "b<0\n"
      ]
    },
    {
      "cell_type": "code",
      "execution_count": 22,
      "metadata": {
        "id": "TLc4J5GxcmLb"
      },
      "outputs": [
        {
          "data": {
            "text/plain": [
              "array([-3, -2, -4])"
            ]
          },
          "execution_count": 22,
          "metadata": {},
          "output_type": "execute_result"
        }
      ],
      "source": [
        "# Jika `b[b < 0]` maka element di `b` kurang dari 0 akan ditampilkan\n",
        "b[b<0]"
      ]
    },
    {
      "cell_type": "markdown",
      "metadata": {
        "id": "iTV0p0tecmLb"
      },
      "source": [
        "**NOMOR 3**\n",
        "\n",
        "Buatlah sebuah array seperti dibawah ini. Keluarkan element yang bernilai positif kemudian urutkan dari nilai yang kecil ke besar\n",
        "\n",
        "```\n",
        "c = [10, -8, 4, 5, -41, 7, 5, -4]\n",
        "```"
      ]
    },
    {
      "cell_type": "code",
      "execution_count": 23,
      "metadata": {
        "id": "mEay01UEcmLb"
      },
      "outputs": [
        {
          "data": {
            "text/plain": [
              "array([ 10,  -8,   4,   5, -41,   7,   5,  -4])"
            ]
          },
          "execution_count": 23,
          "metadata": {},
          "output_type": "execute_result"
        }
      ],
      "source": [
        "#Buat array\n",
        "c = [10, -8, 4, 5, -41, 7, 5, -4]\n",
        "c = np.array(c)\n",
        "c\n"
      ]
    },
    {
      "cell_type": "code",
      "execution_count": 24,
      "metadata": {
        "id": "jXJekUMWcmLb"
      },
      "outputs": [
        {
          "data": {
            "text/plain": [
              "array([ 4,  5,  5,  7, 10])"
            ]
          },
          "execution_count": 24,
          "metadata": {},
          "output_type": "execute_result"
        }
      ],
      "source": [
        "# Sort elemen dari bilangan kecil ke besar\n",
        "#np.sort(nama_array)\n",
        "sorted = np.sort(c[c>0])\n",
        "sorted\n"
      ]
    },
    {
      "cell_type": "code",
      "execution_count": 25,
      "metadata": {
        "id": "z_cqU76fcmLb"
      },
      "outputs": [
        {
          "name": "stdout",
          "output_type": "stream",
          "text": [
            "[10  7  5  5  4]\n",
            "[10  7  5  5  4]\n"
          ]
        }
      ],
      "source": [
        "# Sort elemen dari bilangan besar ke kecil\n",
        "#sort dan Slicing dengan step = -1\n",
        "print(np.sort(c[c>0])[::-1])\n",
        "print(sorted[::-1])\n"
      ]
    },
    {
      "cell_type": "markdown",
      "metadata": {
        "id": "cUapjHxZcmLc"
      },
      "source": [
        "**NOMOR 4**\n",
        "\n",
        "Buatlah array seperti dibawah ini kemudian tumpukkan secara horizontal dan vertikal satu sama lain.\n",
        "\n",
        "```\n",
        "d = [1, 2, 3, 4, 5]\n",
        "e = [6, 7, 8, 9, 10]\n",
        "```"
      ]
    },
    {
      "cell_type": "code",
      "execution_count": 26,
      "metadata": {
        "id": "zc2zgzt8cmLc"
      },
      "outputs": [
        {
          "name": "stdout",
          "output_type": "stream",
          "text": [
            "[1 2 3 4 5]\n",
            "[ 6  7  8  9 10]\n"
          ]
        }
      ],
      "source": [
        "#Buat array\n",
        "d = [1, 2, 3, 4, 5]\n",
        "e = [6, 7, 8, 9, 10]\n",
        "d = np.array(d)\n",
        "e = np.array(e)\n",
        "print(d)\n",
        "print(e)"
      ]
    },
    {
      "cell_type": "code",
      "execution_count": 27,
      "metadata": {
        "id": "YWdagAgScmLc"
      },
      "outputs": [
        {
          "name": "stdout",
          "output_type": "stream",
          "text": [
            "Stacking horizontal [ 1  2  3  4  5  6  7  8  9 10]\n",
            "Stacking Vertical \n",
            " [[ 1  2  3  4  5]\n",
            " [ 6  7  8  9 10]]\n"
          ]
        }
      ],
      "source": [
        "#Stacking Horizontal -> np.hstack((array1,array2))\n",
        "#Stacking Vertikal -> np.vstack((array1,array2))\n",
        "print('Stacking horizontal', np.hstack((d,e)))\n",
        "print('Stacking Vertical','\\n', np.vstack((d,e)))\n"
      ]
    },
    {
      "cell_type": "markdown",
      "metadata": {
        "id": "nNGGJxfWcmLc"
      },
      "source": [
        "**NOMOR 5**\n",
        "\n",
        "Buatlah dua buah array seperti dibawah ini yang berasal dari 1 deklarasi variabel yang sama. Kemudian, kalikan array pertama dengan `2` dan kalikan array kedua dengan `3`.\n",
        "\n",
        "```\n",
        "f = [10, 20, 30, 40, 50]\n",
        "```\n",
        "\n",
        "Ekspektasi output : \n",
        "```\n",
        "hasil perkalian dengan 2 -> [20, 40, 60, 80, 100] \n",
        "hasil perkalian dengan 3 -> [30, 60, 90, 120, 150]\n",
        "```"
      ]
    },
    {
      "cell_type": "code",
      "execution_count": 28,
      "metadata": {
        "id": "JucB5Ec9cmLc"
      },
      "outputs": [
        {
          "data": {
            "text/plain": [
              "array([10, 20, 30, 40, 50])"
            ]
          },
          "execution_count": 28,
          "metadata": {},
          "output_type": "execute_result"
        }
      ],
      "source": [
        "#Buat array f\n",
        "f = [10, 20, 30, 40, 50]\n",
        "f = np.array(f)\n",
        "f\n"
      ]
    },
    {
      "cell_type": "code",
      "execution_count": 29,
      "metadata": {
        "id": "C7Zd9-T8cmLd"
      },
      "outputs": [
        {
          "data": {
            "text/plain": [
              "array([10, 20, 30, 40, 50])"
            ]
          },
          "execution_count": 29,
          "metadata": {},
          "output_type": "execute_result"
        }
      ],
      "source": [
        "#Copy array f ke variabel baru\n",
        "f2 = f.copy()\n",
        "f2\n"
      ]
    },
    {
      "cell_type": "code",
      "execution_count": 30,
      "metadata": {
        "id": "hcdylbuncmLd"
      },
      "outputs": [
        {
          "name": "stdout",
          "output_type": "stream",
          "text": [
            "[ 20  40  60  80 100]\n",
            "[ 30  60  90 120 150]\n"
          ]
        }
      ],
      "source": [
        "#Kalikan masing2 variabel\n",
        "print(f*2)\n",
        "print(f2*3)"
      ]
    },
    {
      "cell_type": "markdown",
      "metadata": {
        "id": "S1uAzp77cmLd"
      },
      "source": [
        "**NOMOR 6**\n",
        "\n",
        "Buatlah sebuah array seperti dibawah ini dan hitung total jumlahnya.\n",
        "\n",
        "```\n",
        "h = [1, 2, 3, 4, 5]\n",
        "j = [ [1, 2, 3],\n",
        "      [4, 5, 6]]\n",
        "```\n",
        "\n",
        "Ekspektasi output :\n",
        "\n",
        "```\n",
        "total nilai h = 15\n",
        "total nilai j berdasarkan penjumlahan baris = [6, 15]\n",
        "total nilai j berdasarkan penjumlahan kolom = [5, 7, 9]\n",
        "```"
      ]
    },
    {
      "cell_type": "code",
      "execution_count": 31,
      "metadata": {
        "id": "z08nMB1vcmLd"
      },
      "outputs": [
        {
          "name": "stdout",
          "output_type": "stream",
          "text": [
            "[1 2 3 4 5] \n",
            " [[1 2 3]\n",
            " [4 5 6]]\n"
          ]
        }
      ],
      "source": [
        "#Buat array\n",
        "h = [1, 2, 3, 4, 5]\n",
        "j = [ [1, 2, 3],\n",
        "      [4, 5, 6]]\n",
        "h = np.array(h)\n",
        "j = np.array(j)\n",
        "print(h,'\\n',j)"
      ]
    },
    {
      "cell_type": "code",
      "execution_count": 32,
      "metadata": {
        "id": "n65p6pDXcmLd"
      },
      "outputs": [
        {
          "name": "stdout",
          "output_type": "stream",
          "text": [
            "Total nilai h =  15\n"
          ]
        }
      ],
      "source": [
        "#jumlahkan array h\n",
        "#.sum()\n",
        "print('Total nilai h = ', h.sum())\n"
      ]
    },
    {
      "cell_type": "code",
      "execution_count": 33,
      "metadata": {
        "id": "ASk5g1VwcmLd"
      },
      "outputs": [
        {
          "name": "stdout",
          "output_type": "stream",
          "text": [
            "total nilai j berdasarkan penjumlahan baris =  [ 6 15]\n"
          ]
        }
      ],
      "source": [
        "#Penjumlahan berdasarkan baris\n",
        "#baris -> axis = 1\n",
        "print('total nilai j berdasarkan penjumlahan baris = ', j.sum(axis = 1))\n"
      ]
    },
    {
      "cell_type": "code",
      "execution_count": 34,
      "metadata": {
        "id": "Jrm1Jr5icmLd"
      },
      "outputs": [
        {
          "name": "stdout",
          "output_type": "stream",
          "text": [
            "total nilai j berdasarkan penjumlahan kolom =  [5 7 9]\n"
          ]
        }
      ],
      "source": [
        "#Penjumlahan berdasarkan kolom\n",
        "# kolom -> axis = 0\n",
        "\n",
        "print('total nilai j berdasarkan penjumlahan kolom = ', j.sum(axis = 0))"
      ]
    },
    {
      "cell_type": "markdown",
      "metadata": {
        "id": "KTsEE9GvcmLd"
      },
      "source": [
        "**NOMOR 7**\n",
        "\n",
        "Buatlah sebuah array seperti dibawah ini dan cari nilai `min`, `max`, dan `sum` per baris dan per kolom.\n",
        "\n",
        "```\n",
        "k = [ [1, 2, 3],\n",
        "      [4, 5, 6]]\n",
        "```"
      ]
    },
    {
      "cell_type": "code",
      "execution_count": 18,
      "metadata": {
        "id": "RmHUIiYrcmLd"
      },
      "outputs": [
        {
          "data": {
            "text/plain": [
              "array([[1, 2, 3],\n",
              "       [4, 5, 6]])"
            ]
          },
          "execution_count": 18,
          "metadata": {},
          "output_type": "execute_result"
        }
      ],
      "source": [
        "#Buat array\n",
        "k = [ [1, 2, 3],\n",
        "      [4, 5, 6]]\n",
        "k = np.array(k)\n",
        "k"
      ]
    },
    {
      "cell_type": "code",
      "execution_count": 35,
      "metadata": {
        "id": "OTbCFCMTcmLe"
      },
      "outputs": [
        {
          "name": "stdout",
          "output_type": "stream",
          "text": [
            "[1 4]\n",
            "[3 6]\n",
            "[ 6 15]\n",
            "\n",
            "[1 2 3]\n",
            "[4 5 6]\n",
            "[5 7 9]\n"
          ]
        }
      ],
      "source": [
        "#Mencari nilai minimum -> .min()\n",
        "#Mencari nilai maximum - > .max()\n",
        "#Mencari nilai total -> .sum()\n",
        "\n",
        "#Mencari nilai minimum -> .min()\n",
        "#Mencari nilai maximum - > .max()\n",
        "#Mencari nilai total -> .sum()\n",
        "\n",
        "print(k.min(axis = 1))\n",
        "print(k.max(axis = 1))\n",
        "print(k.sum(axis = 1))\n",
        "\n",
        "print('')\n",
        "\n",
        "print(k.min(axis=0))\n",
        "print(k.max(axis=0))\n",
        "print(k.sum(axis=0))\n"
      ]
    },
    {
      "cell_type": "markdown",
      "metadata": {
        "id": "hzXakCZ-cmLe"
      },
      "source": [
        "**NOMOR 8**\n",
        "\n",
        "Buatlah sebuah array seperti dibawah ini dan cari baris kedua dan kolom kedua.\n",
        "\n",
        "```\n",
        "n = [ [1, 2, 3], \n",
        "      [4, 5, 6],\n",
        "      [7, 8, 9]]\n",
        "```"
      ]
    },
    {
      "cell_type": "code",
      "execution_count": 36,
      "metadata": {
        "id": "8zVwJHARcmLe"
      },
      "outputs": [
        {
          "data": {
            "text/plain": [
              "array([[1, 2, 3],\n",
              "       [4, 5, 6],\n",
              "       [7, 8, 9]])"
            ]
          },
          "execution_count": 36,
          "metadata": {},
          "output_type": "execute_result"
        }
      ],
      "source": [
        "#Buat array\n",
        "#Buat array\n",
        "n = [ [1, 2, 3], \n",
        "      [4, 5, 6],\n",
        "      [7, 8, 9]]\n",
        "n = np.array(n)\n",
        "n"
      ]
    },
    {
      "cell_type": "code",
      "execution_count": 37,
      "metadata": {
        "id": "gX7ndiqJcmLe"
      },
      "outputs": [
        {
          "data": {
            "text/plain": [
              "1"
            ]
          },
          "execution_count": 37,
          "metadata": {},
          "output_type": "execute_result"
        }
      ],
      "source": [
        "#Get baris&Kolom\n",
        "# nama_array[baris,kolom]\n",
        "\n",
        "n[0,0]"
      ]
    },
    {
      "cell_type": "code",
      "execution_count": 40,
      "metadata": {
        "id": "cQPbgLuOcmLe"
      },
      "outputs": [
        {
          "name": "stdout",
          "output_type": "stream",
          "text": [
            "[4 5 6]\n"
          ]
        }
      ],
      "source": [
        "# Get baris kedua\n",
        "# Bisa menggunakan n[1] atau n[1, :]\n",
        "print(n[1,:])\n",
        "\n"
      ]
    },
    {
      "cell_type": "code",
      "execution_count": 42,
      "metadata": {
        "id": "WkO5IfGtcmLe"
      },
      "outputs": [
        {
          "name": "stdout",
          "output_type": "stream",
          "text": [
            "[2 5 8]\n"
          ]
        }
      ],
      "source": [
        "# Get kolom kedua (menampilkan secara array 1D)\n",
        "#n[:, 1]\n",
        "print(n[:,1])\n"
      ]
    },
    {
      "cell_type": "code",
      "execution_count": 44,
      "metadata": {
        "id": "5PNo251hcmLf"
      },
      "outputs": [
        {
          "name": "stdout",
          "output_type": "stream",
          "text": [
            "[[2]\n",
            " [5]\n",
            " [8]]\n"
          ]
        }
      ],
      "source": [
        "# Get kolom kedua (menampilkan secara array 2D)\n",
        "# nama_array[:, [index_kolom]]\n",
        "print(n[:,[1]])\n"
      ]
    },
    {
      "cell_type": "code",
      "execution_count": 45,
      "metadata": {
        "id": "m-qY0hTgcmLf"
      },
      "outputs": [
        {
          "data": {
            "text/plain": [
              "array([[1, 0, 0],\n",
              "       [0, 5, 0],\n",
              "       [0, 0, 9]])"
            ]
          },
          "execution_count": 45,
          "metadata": {},
          "output_type": "execute_result"
        }
      ],
      "source": [
        "# Get elemen diagonal (dari kiri ke kanan)\n",
        "# np.diag()\n",
        "# buka dokumentasi\n",
        "np.diag(np.diag(n))\n"
      ]
    },
    {
      "cell_type": "code",
      "execution_count": 46,
      "metadata": {
        "id": "BSA_rROWcmLf"
      },
      "outputs": [
        {
          "data": {
            "text/plain": [
              "array([3, 5, 7])"
            ]
          },
          "execution_count": 46,
          "metadata": {},
          "output_type": "execute_result"
        }
      ],
      "source": [
        "# Get elemen diagonal (dari kanan ke kiri)\n",
        "# np.diag(np.fliplr(n))\n",
        "\n",
        "np.diag(np.fliplr(n))"
      ]
    },
    {
      "cell_type": "markdown",
      "metadata": {
        "id": "7NsZ4kOycmLf"
      },
      "source": [
        "**NOMOR 9**\n",
        "\n",
        "Buatlah sebuah array seperti dibawah ini dan cari nilai `min`, `max`, dan `sum` untuk baris kedua dan kolom kedua.\n",
        "\n",
        "```\n",
        "m = [ [1, 2, 3], \n",
        "      [4, 5, 6],\n",
        "      [7, 8, 9]]\n",
        "```"
      ]
    },
    {
      "cell_type": "code",
      "execution_count": 47,
      "metadata": {
        "id": "xIoEWukJcmLf"
      },
      "outputs": [
        {
          "data": {
            "text/plain": [
              "array([[1, 2, 3],\n",
              "       [4, 5, 6],\n",
              "       [7, 8, 9]])"
            ]
          },
          "execution_count": 47,
          "metadata": {},
          "output_type": "execute_result"
        }
      ],
      "source": [
        "#Buat array\n",
        "#Buat array\n",
        "m = [ [1, 2, 3], \n",
        "      [4, 5, 6],\n",
        "      [7, 8, 9]]\n",
        "m = np.array(m)\n",
        "m"
      ]
    },
    {
      "cell_type": "code",
      "execution_count": 48,
      "metadata": {
        "id": "MSc4nrGMcmLf"
      },
      "outputs": [
        {
          "name": "stdout",
          "output_type": "stream",
          "text": [
            "[4 5 6]\n",
            "[2 5 8]\n"
          ]
        }
      ],
      "source": [
        "#buat variabel yang berisikan baris ke 2\n",
        "sec_row = m[1]\n",
        "print(sec_row)\n",
        "\n",
        "#buat variabel yang berisikan kolom ke 2\n",
        "sec_col = m[:,1]\n",
        "print(sec_col)"
      ]
    },
    {
      "cell_type": "code",
      "execution_count": 49,
      "metadata": {
        "id": "xGOEGPoKcmLf"
      },
      "outputs": [
        {
          "name": "stdout",
          "output_type": "stream",
          "text": [
            "Total jumlah array m =  45\n",
            "Total jumlah kolom kedua array m =  15\n",
            "Total jumlah baris kedua array m =  15\n",
            "Nilai minimum array m =  1\n",
            "Nilai minimum dari kolom kedua array m =  2\n",
            "Nilai minimum dari baris kedua array m =  4\n",
            "Nilai maximum array m =  9\n",
            "Nilai maximum dari kolom kedua array m =  8\n",
            "Nilai maximum dari baris kedua array m =  6\n"
          ]
        }
      ],
      "source": [
        "#Cari masing2 nilai sum, min, dan max\n",
        "#Cari masing2 nilai sum, min, dan max\n",
        "#Cari masing2 nilai sum, min, dan max\n",
        "print('Total jumlah array m = ', np.sum(m))\n",
        "print ('Total jumlah kolom kedua array m = ', np.sum(sec_col)) #column\n",
        "print ('Total jumlah baris kedua array m = ', np.sum(sec_row)) #row\n",
        "\n",
        "print('Nilai minimum array m = ',np.min(m))\n",
        "print ('Nilai minimum dari kolom kedua array m = ', np.min(sec_col)) #column\n",
        "print ('Nilai minimum dari baris kedua array m = ', np.min(sec_row)) #row\n",
        "\n",
        "print('Nilai maximum array m = ', np.max(m))\n",
        "print ('Nilai maximum dari kolom kedua array m = ',np.max(sec_col)) #column\n",
        "print ('Nilai maximum dari baris kedua array m = ',np.max(sec_row)) #row\n"
      ]
    },
    {
      "cell_type": "markdown",
      "metadata": {
        "id": "54EE0Na_cmLf"
      },
      "source": [
        "**NOMOR 10**\n",
        "\n",
        "<img src='https://i.ibb.co/JvBzgWn/greyscale.png'>\n",
        "\n",
        "Download image [disini](https://i.ibb.co/JvBzgWn/greyscale.png)\n",
        "\n",
        "* Load gambar tersebut dengan menggunakan library matplotlib.\n",
        "* Jawab pertanyaan berikut ini : \n",
        "  - Berapa ukuran gambar tersebut.\n",
        "  - Berapa total piksel/element pada gambar tersebut.\n",
        "  - Cerahkan gambar tersebut dengan menambahkan suatu angka."
      ]
    },
    {
      "cell_type": "code",
      "execution_count": 50,
      "metadata": {
        "colab": {
          "base_uri": "https://localhost:8080/"
        },
        "id": "y9PgcS4TcmLf",
        "outputId": "a5911cb4-c8a4-44ef-cc7d-027cd971ccc8"
      },
      "outputs": [
        {
          "name": "stdout",
          "output_type": "stream",
          "text": [
            "Requirement already satisfied: matplotlib in c:\\users\\xyla\\anaconda3\\lib\\site-packages (3.5.1)\n",
            "Requirement already satisfied: fonttools>=4.22.0 in c:\\users\\xyla\\anaconda3\\lib\\site-packages (from matplotlib) (4.25.0)\n",
            "Requirement already satisfied: python-dateutil>=2.7 in c:\\users\\xyla\\anaconda3\\lib\\site-packages (from matplotlib) (2.8.2)\n",
            "Requirement already satisfied: pillow>=6.2.0 in c:\\users\\xyla\\anaconda3\\lib\\site-packages (from matplotlib) (9.0.1)\n",
            "Requirement already satisfied: pyparsing>=2.2.1 in c:\\users\\xyla\\anaconda3\\lib\\site-packages (from matplotlib) (3.0.4)\n",
            "Requirement already satisfied: kiwisolver>=1.0.1 in c:\\users\\xyla\\anaconda3\\lib\\site-packages (from matplotlib) (1.3.2)\n",
            "Requirement already satisfied: numpy>=1.17 in c:\\users\\xyla\\anaconda3\\lib\\site-packages (from matplotlib) (1.21.5)\n",
            "Requirement already satisfied: packaging>=20.0 in c:\\users\\xyla\\anaconda3\\lib\\site-packages (from matplotlib) (21.3)\n",
            "Requirement already satisfied: cycler>=0.10 in c:\\users\\xyla\\anaconda3\\lib\\site-packages (from matplotlib) (0.11.0)\n",
            "Requirement already satisfied: six>=1.5 in c:\\users\\xyla\\anaconda3\\lib\\site-packages (from python-dateutil>=2.7->matplotlib) (1.16.0)\n"
          ]
        }
      ],
      "source": [
        "#Install matplotlib in jupyter\n",
        "import sys  \n",
        "!{sys.executable} -m pip install --user matplotlib"
      ]
    },
    {
      "cell_type": "code",
      "execution_count": 53,
      "metadata": {
        "id": "Td9P2pkycmLg"
      },
      "outputs": [],
      "source": [
        "#Import matplotlib\n",
        "\n",
        "import matplotlib.pyplot as plt"
      ]
    },
    {
      "cell_type": "code",
      "execution_count": 54,
      "metadata": {
        "id": "Fa1Uq-zacmLg"
      },
      "outputs": [],
      "source": [
        "#Baca gambar menggunakan plt.imread('location_gambar') lalu masukkan ke variabel\n",
        "img = plt.imread('greyscale.png')\n"
      ]
    },
    {
      "cell_type": "code",
      "execution_count": 60,
      "metadata": {
        "id": "_Srt-HKKcmLg"
      },
      "outputs": [
        {
          "data": {
            "text/plain": [
              "(700, 1120)"
            ]
          },
          "execution_count": 60,
          "metadata": {},
          "output_type": "execute_result"
        }
      ],
      "source": [
        "#Cek ukuran gambar\n",
        "#.shape\n",
        "img.shape\n"
      ]
    },
    {
      "cell_type": "code",
      "execution_count": 59,
      "metadata": {},
      "outputs": [
        {
          "data": {
            "text/plain": [
              "2"
            ]
          },
          "execution_count": 59,
          "metadata": {},
          "output_type": "execute_result"
        }
      ],
      "source": [
        "img.ndim\n"
      ]
    },
    {
      "cell_type": "code",
      "execution_count": 56,
      "metadata": {
        "id": "gQ0M88HZcmLg"
      },
      "outputs": [
        {
          "data": {
            "text/plain": [
              "784000"
            ]
          },
          "execution_count": 56,
          "metadata": {},
          "output_type": "execute_result"
        }
      ],
      "source": [
        "# Total Piksel\n",
        "#.size\n",
        "img.size\n"
      ]
    },
    {
      "cell_type": "code",
      "execution_count": 61,
      "metadata": {
        "id": "dhPYPXhzcmLg"
      },
      "outputs": [
        {
          "data": {
            "text/plain": [
              "array([[0.37254903, 0.3529412 , 0.34509805, ..., 0.        , 0.        ,\n",
              "        0.        ],\n",
              "       [0.38431373, 0.36078432, 0.34509805, ..., 0.        , 0.        ,\n",
              "        0.        ],\n",
              "       [0.3882353 , 0.36078432, 0.34117648, ..., 0.        , 0.        ,\n",
              "        0.        ],\n",
              "       ...,\n",
              "       [0.08235294, 0.07450981, 0.09411765, ..., 0.0627451 , 0.0627451 ,\n",
              "        0.06666667],\n",
              "       [0.07843138, 0.07450981, 0.10588235, ..., 0.06666667, 0.06666667,\n",
              "        0.06666667],\n",
              "       [0.05882353, 0.07058824, 0.12156863, ..., 0.07843138, 0.07843138,\n",
              "        0.07843138]], dtype=float32)"
            ]
          },
          "execution_count": 61,
          "metadata": {},
          "output_type": "execute_result"
        }
      ],
      "source": [
        "#Nilai piksel\n",
        "#img, udah di scalling\n",
        "\n",
        "img\n"
      ]
    },
    {
      "cell_type": "code",
      "execution_count": 62,
      "metadata": {
        "id": "FIQlTahocmLg"
      },
      "outputs": [
        {
          "data": {
            "text/plain": [
              "numpy.ndarray"
            ]
          },
          "execution_count": 62,
          "metadata": {},
          "output_type": "execute_result"
        }
      ],
      "source": [
        "#Memastikan tipe data menjadi array\n",
        "#np.asarray()\n",
        "\n",
        "img = np.asarray(img)\n",
        "type(img)"
      ]
    },
    {
      "cell_type": "code",
      "execution_count": 67,
      "metadata": {
        "id": "PkREJKzWcmLg"
      },
      "outputs": [
        {
          "data": {
            "text/plain": [
              "0.3137254901960784"
            ]
          },
          "execution_count": 67,
          "metadata": {},
          "output_type": "execute_result"
        }
      ],
      "source": [
        "#Menentukan nilai yg akan ditambahkan ke piksel\n",
        "#Ubah ke skala 0-1, divide by 255 (highest pixel value)\n",
        "added_value = 80\n",
        "added_value = 80/255\n",
        "added_value\n"
      ]
    },
    {
      "cell_type": "code",
      "execution_count": 68,
      "metadata": {
        "id": "ngx6kZPicmLh"
      },
      "outputs": [],
      "source": [
        "#Copy datanya dulu (penting setiap ingin memodifikasi data) ke variabel baru\n",
        "new_img = img.copy()\n",
        "\n",
        "#tambahkan nilai piksel ke gambar\n",
        "\n",
        "new_img = new_img + added_value\n"
      ]
    },
    {
      "cell_type": "code",
      "execution_count": 45,
      "metadata": {
        "id": "sPPDob8gcmLh"
      },
      "outputs": [],
      "source": [
        "# Menampilkan gambar original\n",
        "# `img` : array gambar\n",
        "# `cmap` : color map #figure\n",
        "# `vmin` : value minimum #figure\n",
        "# `vmax` : value maximum #figure\n",
        "#plt.imshow(nama_variabel, cmap='gray', vmin=0, vmax=1)\n",
        "\n"
      ]
    },
    {
      "cell_type": "code",
      "execution_count": 79,
      "metadata": {
        "id": "c7G3g2XtcmLh"
      },
      "outputs": [
        {
          "data": {
            "text/plain": [
              "<matplotlib.image.AxesImage at 0x1f67b244400>"
            ]
          },
          "execution_count": 79,
          "metadata": {},
          "output_type": "execute_result"
        },
        {
          "data": {
            "image/png": "[encoded data removed]",
            "text/plain": [
              "<Figure size 432x288 with 1 Axes>"
            ]
          },
          "metadata": {
            "needs_background": "light"
          },
          "output_type": "display_data"
        }
      ],
      "source": [
        "# Menampilkan gambar yg sudah ditambah suatu value\n",
        "plt.imshow(new_img, cmap='gray', vmin=0, vmax=1)"
      ]
    },
    {
      "cell_type": "code",
      "execution_count": 48,
      "metadata": {
        "id": "qYLCtKRY36Jr"
      },
      "outputs": [],
      "source": [
        "#Save fig\n",
        "# plt.savefig('new_img.png')\n"
      ]
    }
  ],
  "metadata": {
    "colab": {
      "collapsed_sections": [],
      "name": "Latihan_numpy_array.ipynb",
      "provenance": []
    },
    "kernelspec": {
      "display_name": "Python 3.9.12 ('base')",
      "language": "python",
      "name": "python3"
    },
    "language_info": {
      "codemirror_mode": {
        "name": "ipython",
        "version": 3
      },
      "file_extension": ".py",
      "mimetype": "text/x-python",
      "name": "python",
      "nbconvert_exporter": "python",
      "pygments_lexer": "ipython3",
      "version": "3.9.12"
    },
    "orig_nbformat": 4,
    "vscode": {
      "interpreter": {
        "hash": "6d54a62e041cb490de51dae444c229fb2b7bbb8f393d3c8a649e18023d500dba"
      }
    }
  },
  "nbformat": 4,
  "nbformat_minor": 0
}
